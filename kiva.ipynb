{
 "cells": [
  {
   "cell_type": "markdown",
   "metadata": {},
   "source": [
    "# Predicting a loan's success in kiva's crowdfinding platform\n",
    "## Human-Agent interaction final project\n",
    "### By Einat Heletz and Eyal Golan"
   ]
  },
  {
   "cell_type": "markdown",
   "source": [
    "# Table of Contents\n",
    "1. [Introduction](#intro)\n",
    "2. [Preprocessing](#preprocessing)\n",
    "3. [Feature Engineering](#features)\n",
    "4. [Encoding](#encoding)\n",
    "5. [Models](#models)\n",
    "5. [Conclusions](#conclusions)"
   ],
   "metadata": {
    "collapsed": false
   }
  },
  {
   "cell_type": "markdown",
   "metadata": {},
   "source": [
    "# <a class=\"anchor\" id=\"intro\">1. Introduction</a>\n",
    "<b>What is Kiva?</b><br>\n",
    "Kiva is a non-profit organization that allows people to lend money via the Internet to low-income entrepreneurs and\n",
    "students in 77 countries.\n",
    "Kiva's mission is \"to expand financial access to help underserved communities thrive.\"\n",
    "Since 2005, Kiva has crowd-funded more than 1.6 million loans, totaling over $1.33 billion, with a repayment rate of \n",
    "95.8 percent. Over 1.8 million lenders worldwide use the Kiva platform. Lenders do not receive interest on the money \n",
    "they lend. Kiva includes personal stories of each person who applies for a loan so that lenders can connect with \n",
    "borrowers on a human level.<br>\n",
    "<br><br>\n",
    "<b>Motivation</b><br>\n",
    "The Kiva platform is used to extend financial services to poor and financially excluded people around the world.\n",
    "It's lenders have provided over billions of dollars in loans to millions of people.\n",
    "In order to inform lenders, set investment priorities and understand the lenders target communities -\n",
    "knowing the poverty level of each borrower is important.\n",
    "However, this requires inference based on limited information for each borrower.\n",
    "<br><br>\n",
    "<b>Our goal</b><br>\n",
    "As part of out final project in the Human-Agent interaction course, our goal is to determine which factors come to play\n",
    "in a lender's decision to provide a load or not - Which factors give a lender the security he or she needs that they\n",
    "will get the money back? which people do lenders tend to trust? why?"
   ]
  },
  {
   "cell_type": "markdown",
   "metadata": {},
   "source": [
    "## 1.1 Data\n",
    "1. [Data Science for Good: Kiva Crowdfunding](https://www.kaggle.com/kiva/data-science-for-good-kiva-crowdfunding)\n",
    "2. We also used the [MPI datasets](https://www.kaggle.com/ophi/mpi) in order to get the poverty level of a given location\n",
    "\n",
    "Explaining the data:\n",
    "1. Kiva Crowdfunding - we use the following kiva_loans.csv dataset. The dataset contains the following fields:\n",
    "   * id\t- int, the id number of the loan request\n",
    "   * funded_amount - The amount disbursed by Kiva to the field agent(USD)\n",
    "   * loan_amount - The amount disbursed by the field agent to the borrower(USD)\n",
    "   * activity - The activity for which the load is requested\n",
    "   * sector - The category of the activity\n",
    "   * use - The purpose of the load\n",
    "   * country_code - ISO country code of country in which loan was disbursed\n",
    "   * country - Full country name of country in which loan was disbursed\n",
    "   * region - Full region name within the country\n",
    "   * currency - The currency in which the loan was disbursed\n",
    "   * partner_id - Unique ID for field partners\n",
    "   * posted_time\n",
    "   * disbursed_time\n",
    "   * funded_time\n",
    "   * term_in_months\n",
    "   * lender_count\n",
    "   * tags - Additional information about the load, for example: #Woman Owned Biz, #Parent, #First Loan\n",
    "   * borrower_genders - the gender of each of the borrowers\n",
    "\n",
    "2. MPI - we use the following datasets:\n",
    "   * MPI_national.csv - The dataset contains the following fields:\n",
    "     * ISO - Unique ID for country\n",
    "     * Country - country name\n",
    "     * MPI Urban - Multi-dimensional poverty index for urban areas within the country\n",
    "     * Headcount Ratio Urban - Poverty headcount ratio (% of population listed as poor) within urban areas within the country\n",
    "     * Intensity of Deprivation Urban - Average distance below the poverty line of those listed as poor in urban areas\n",
    "     * MPI Rural - Multi-dimensional poverty index for rural areas within the country\n",
    "     * Headcount Ratio Rural - Poverty headcount ratio (% of population listed as poor) within rural areas within the country\n",
    "     * Intensity of Deprivation Rural - Average distance below the poverty line of those listed as poor in rural areas\n",
    "\n",
    "   * MPI_subnational.csv - The dataset contains the following fields:\n",
    "     * ISO: Unique ID for country\n",
    "     * Country: country name\n",
    "     * Sub-national region: Region within country\n",
    "     * World region: General global region\n",
    "     * MPI National: Overall aggregate national MPI score\n",
    "     * MPI Regional: Multi-dimensional poverty index for this region\n",
    "     * Headcount Ratio Regional: Poverty headcount ratio (% of population listed as poor) this region\n",
    "     * Intensity of deprivation Regional: Average distance below the poverty line of those listed as poor in this region"
   ]
  },
  {
   "cell_type": "markdown",
   "metadata": {},
   "source": [
    "# <a class=\"anchor\" id=\"preprocessing\">2. Preprocessing</a>"
   ]
  },
  {
   "cell_type": "markdown",
   "metadata": {},
   "source": [
    "## 2.1 Loading the data"
   ]
  },
  {
   "cell_type": "code",
   "execution_count": 1,
   "metadata": {
    "scrolled": true
   },
   "outputs": [
    {
     "name": "stdout",
     "output_type": "stream",
     "text": [
      "loading...\n",
      "loaded.\n"
     ]
    }
   ],
   "source": [
    "import pandas as pd\n",
    "import numpy as np\n",
    "import math\n",
    "import nltk\n",
    "from nltk.tokenize import RegexpTokenizer\n",
    "from tqdm import tqdm\n",
    "import warnings\n",
    "import seaborn as sns"
   ]
  },
  {
   "cell_type": "code",
   "execution_count": null,
   "outputs": [],
   "source": [
    "with warnings.catch_warnings():\n",
    "    warnings.simplefilter(\"ignore\")\n",
    "    tqdm.pandas()\n",
    "\n",
    "print(\"Loading the datasets ...\")\n",
    "loans = pd.read_csv(r\"datasets/kiva_loans.csv\")\n",
    "mpi_region = pd.read_csv(r\"datasets/MPI_subnational.csv\")\n",
    "mpi_country = pd.read_csv(r\"datasets/MPI_national.csv\")\n",
    "print(\"Loaded all the datasets\")"
   ],
   "metadata": {
    "collapsed": false,
    "pycharm": {
     "name": "#%%\n"
    }
   }
  },
  {
   "cell_type": "markdown",
   "metadata": {},
   "source": [
    "## 2.2 Missing values\n",
    "\n",
    "Before diving into the dataset, we want to check the datasets' completeness.\n",
    "\n",
    "### 2.2.1 Missing values in %"
   ]
  },
  {
   "cell_type": "code",
   "execution_count": 2,
   "metadata": {
    "scrolled": true
   },
   "outputs": [
    {
     "data": {
      "text/plain": "<AxesSubplot:>"
     },
     "execution_count": 2,
     "metadata": {},
     "output_type": "execute_result"
    },
    {
     "data": {
      "text/plain": "<Figure size 432x288 with 1 Axes>",
      "image/png": "[encoded data removed]"
     },
     "metadata": {
      "needs_background": "light"
     },
     "output_type": "display_data"
    }
   ],
   "source": [
    "missing_data_in_rows = dict()\n",
    "for key in loans.keys():\n",
    "    data = loans[key]\n",
    "    count = 0\n",
    "    for line in data:\n",
    "        if not line or (type(line) == float and math.isnan(line)):\n",
    "            count += 1\n",
    "    missing_data_in_rows[key] = count/len(loans)*100\n",
    "    \n",
    "keys = list(missing_data_in_rows.keys())\n",
    "values = [missing_data_in_rows[k] for k in keys]\n",
    "sns.barplot(y=keys, x=values)"
   ]
  },
  {
   "cell_type": "markdown",
   "metadata": {},
   "source": [
    "### 2.2.2 Handling missing values\n",
    "* funded_time - missing value actually means that it's an unsuccessful loan, so they will be labeled later as unsuccessful. no issue here.\n",
    "* tags - we extract later features out of this field, doesn't necessarily need to be in all the samples. no issue here.\n",
    "* borrower_genders - handled below in the feature engineering section.\n",
    "* region - will be handled later in a dedicated chapter.\n",
    "* partner_id - the missing values will be filled with 0.\n",
    "* lender_count - the missing values will be filled with 0.\n",
    "* country_code - the missing values will be filled with na.\n",
    "* use - the missing values will be filled with an empty string."
   ]
  },
  {
   "cell_type": "code",
   "execution_count": 3,
   "metadata": {},
   "outputs": [
    {
     "name": "stdout",
     "output_type": "stream",
     "text": [
      "Missing values in partner_id - before: 13507, after: 0\n",
      "Missing values in lender_count - before: 0, after: 0\n",
      "Missing values in country_code - before: 8, after: 0\n",
      "Missing values in use - before: 4232, after: 0\n"
     ]
    }
   ],
   "source": [
    "def fill_missing_values(field, value):\n",
    "    missing_values_before = loans[field].apply(lambda x: 1 if type(x) is float and math.isnan(x) else 0).sum()\n",
    "    loans[field] = loans[field].fillna(value)\n",
    "    missing_values_after = loans[field].apply(lambda x: 1 if type(x) is float and math.isnan(x) else 0).sum()\n",
    "    print(f'Missing values in {field} - before: {missing_values_before}, after: {missing_values_after}')\n",
    "\n",
    "fill_missing_values('partner_id', 0)\n",
    "fill_missing_values('lender_count', 0)\n",
    "fill_missing_values('country_code', 'na')\n",
    "fill_missing_values('use', '')"
   ]
  },
  {
   "cell_type": "markdown",
   "metadata": {},
   "source": [
    "## 2.3 Regional MPI\n",
    "Our data consists of Loans, National MPI and Regional MPI. Each loans states the region of the borrower, and we can use this data in our advance. <br>\n",
    "The region column on the loans dataset has a lot of unique values, which does not represnt a region directly, some of the entries contain cities or district, and other have more data than just a region or a city. \n",
    "If we'd like to use the regional MPI data set, we need to extract the region (and only the region) for each entry. <br>\n",
    "In order to use this data, we'll need to split cluttered entries and \"zooming out\" to get the region for most of the entries. Additionally, some countries does not have Regional MPI data for us to use. <br>\n",
    "\n",
    "### 2.3.1 Reviewing loans region column"
   ]
  },
  {
   "cell_type": "code",
   "execution_count": 4,
   "metadata": {},
   "outputs": [
    {
     "name": "stdout",
     "output_type": "stream",
     "text": [
      "Amount of missing regions: 12565\n"
     ]
    }
   ],
   "source": [
    "missing = set()\n",
    "for region in loans.region.unique(): #what if there are 2 different regions from different countries but with the same name?\n",
    "    if region not in mpi_region['Sub-national region'].values:\n",
    "        missing.add(region)\n",
    "print(f\"Amount of missing regions: {len(missing)}\")"
   ]
  },
  {
   "cell_type": "markdown",
   "metadata": {},
   "source": [
    "Translating city to region won't be an easy job, considering all the different countries. An easier approach would be fixing the larger chunk of data, doing the least job. So we'll find out how many entries we have for each country."
   ]
  },
  {
   "cell_type": "code",
   "execution_count": 5,
   "metadata": {},
   "outputs": [
    {
     "name": "stdout",
     "output_type": "stream",
     "text": [
      "Amount of loans with missing regions: 563450\n",
      "Only in the top 10: 405367\n",
      "71.94373946224155%\n",
      "\n",
      "                 Freq\n",
      "country              \n",
      "Philippines  160360.0\n",
      "Kenya         67073.0\n",
      "Cambodia      34811.0\n",
      "Pakistan      26852.0\n",
      "Peru          22073.0\n",
      "Colombia      21218.0\n",
      "Uganda        20390.0\n",
      "El Salvador   19624.0\n",
      "Tajikistan    19482.0\n",
      "Ecuador       13484.0\n"
     ]
    }
   ],
   "source": [
    "loans_geo_df = loans.groupby(['country','region']).size().reset_index(name='Freq')\n",
    "loans_geo_country_df = loans.groupby(['country']).size().reset_index(name='Freq')\n",
    "\n",
    "mpi_df = mpi_region[['Country', 'Sub-national region']] \n",
    "mpi_df = mpi_df.rename(columns={'Country': 'country', 'Sub-national region': 'region'})\n",
    "loans_geo_with_mpi_df = loans_geo_df.merge(mpi_df, indicator=True, how='outer', on=(['country', 'region']))\n",
    "loans_geo_country_with_mpi_df = loans_geo_with_mpi_df.groupby(['country']).sum().sort_values('Freq', ascending=False)\n",
    "\n",
    "missing_regions = int(loans_geo_with_mpi_df[loans_geo_with_mpi_df['_merge'] == 'left_only']['Freq'].sum())\n",
    "missing_regions_top10 = int(loans_geo_country_with_mpi_df[:10].sum()['Freq'])\n",
    "\n",
    "print(f\"Amount of loans with missing regions: {missing_regions}\")\n",
    "print(f\"Only in the top 10: {missing_regions_top10}\")\n",
    "print(f\"{missing_regions_top10/missing_regions*100}%\\n\")\n",
    "print(loans_geo_country_with_mpi_df[:10])"
   ]
  },
  {
   "cell_type": "markdown",
   "metadata": {},
   "source": [
    "We have total of 671205 loan entries. 563450 of them has a corrupted region info. Fixing the top 10 countries on that list would fix 72% of the total regions. Fixing each country can be a tedious job for some countries (Kenya for example, due to lack of useful, easy to use, data online), and even when addressing a country individually, we still won't hit 100% success.\n",
    "Instead, we tried addressing the problem as a whole, and using some tools and some time we managed to get some nice results.\n",
    "We decided to fill the missing MPI data with 0s."
   ]
  },
  {
   "cell_type": "markdown",
   "metadata": {},
   "source": [
    "### 2.3.2 Reviewing missing countries in regional MPI\n",
    "Let see which contries don't have regional MPI data, and total of how many entries don't have the relevant data."
   ]
  },
  {
   "cell_type": "code",
   "execution_count": 6,
   "metadata": {},
   "outputs": [
    {
     "name": "stderr",
     "output_type": "stream",
     "text": [
      "c:\\studies\\barilan\\year3\\semesterb\\humanagentinteraction\\venv\\lib\\site-packages\\seaborn\\_decorators.py:36: FutureWarning: Pass the following variable as a keyword arg: x. From version 0.12, the only valid positional argument will be `data`, and passing other arguments without an explicit keyword will result in an error or misinterpretation.\n",
      "  warnings.warn(\n"
     ]
    },
    {
     "data": {
      "text/plain": "<Figure size 432x288 with 1 Axes>",
      "image/png": "[encoded data removed]"
     },
     "metadata": {
      "needs_background": "light"
     },
     "output_type": "display_data"
    }
   ],
   "source": [
    "import matplotlib.pyplot as plt\n",
    "import seaborn as sns\n",
    "countries = set(loans['country'].unique()) - set(mpi_region['Country'].unique())\n",
    "ax = sns.countplot(loans.country, order=countries)\n",
    "ax.set_xticklabels(ax.get_xticklabels(), rotation=90)\n",
    "plt.show()"
   ]
  },
  {
   "cell_type": "code",
   "execution_count": 7,
   "metadata": {},
   "outputs": [
    {
     "name": "stdout",
     "output_type": "stream",
     "text": [
      "In total, we have 36 countries without regional MPI data, which means we have 117627 non resolvable entries. \n",
      "Which means 17.52% of our data is non-resolvable\n"
     ]
    }
   ],
   "source": [
    "contries_count = loans.groupby('country').size()\n",
    "print(f'In total, we have {len(countries)} countries without regional MPI data, which means we have {contries_count[countries].sum()} non resolvable entries. \\nWhich means {contries_count[countries].sum()/len(loans)*100:.02f}% of our data is non-resolvable')"
   ]
  },
  {
   "cell_type": "markdown",
   "metadata": {},
   "source": [
    "### 2.3.3 Fixing regions data\n",
    "Our first method was resolved each country individually, or to do so for the 10 most common countries in the Kiva loans dataset. First we started resolving the Philippines. It has a slightly complex divisioning system, and most of the entries have more data then just the region itself, but we managed to resolved 95% of the entries (which means 10k unresolved entries). <br>\n",
    "After the Philippines we started resolving Kenya. They have regions, but most of the data on the loans dataset is small villages, which sometimes fail to yield result even on google. resolving all of the villages one by one would've been a tedious job, so we gave up on that method. <br>\n",
    "Our current method is using geopy + translate + SequenceMatcher to find the best result. <br>\n",
    "The region_resolver script can be find outside of this notebook. It needs several hours to run, but it yields decent results. Geopy returns location tokens, then we translate the token, because some of them are in foreign languages, and then we take the region of the same country with a match of 85% or more using sequence matcher."
   ]
  },
  {
   "cell_type": "markdown",
   "metadata": {},
   "source": [
    "\n",
    "#### 2.3.3.1 Applying the results on the Dataset"
   ]
  },
  {
   "cell_type": "code",
   "execution_count": 8,
   "metadata": {},
   "outputs": [
    {
     "ename": "FileNotFoundError",
     "evalue": "[Errno 2] No such file or directory: 'datasets/regions.json'",
     "output_type": "error",
     "traceback": [
      "\u001B[1;31m---------------------------------------------------------------------------\u001B[0m",
      "\u001B[1;31mFileNotFoundError\u001B[0m                         Traceback (most recent call last)",
      "\u001B[1;32m<ipython-input-8-0570e36f7ea7>\u001B[0m in \u001B[0;36m<module>\u001B[1;34m\u001B[0m\n\u001B[0;32m      1\u001B[0m \u001B[1;32mimport\u001B[0m \u001B[0mjson\u001B[0m\u001B[1;33m\u001B[0m\u001B[1;33m\u001B[0m\u001B[0m\n\u001B[1;32m----> 2\u001B[1;33m \u001B[1;32mwith\u001B[0m \u001B[0mopen\u001B[0m\u001B[1;33m(\u001B[0m\u001B[1;34mr\"datasets/regions.json\"\u001B[0m\u001B[1;33m,\u001B[0m \u001B[1;34m'r'\u001B[0m\u001B[1;33m)\u001B[0m \u001B[1;32mas\u001B[0m \u001B[0mfp\u001B[0m\u001B[1;33m:\u001B[0m\u001B[1;33m\u001B[0m\u001B[1;33m\u001B[0m\u001B[0m\n\u001B[0m\u001B[0;32m      3\u001B[0m     \u001B[0m_\u001B[0m\u001B[1;33m,\u001B[0m \u001B[0mresolved_regions\u001B[0m \u001B[1;33m=\u001B[0m \u001B[0mjson\u001B[0m\u001B[1;33m.\u001B[0m\u001B[0mload\u001B[0m\u001B[1;33m(\u001B[0m\u001B[0mfp\u001B[0m\u001B[1;33m)\u001B[0m\u001B[1;33m.\u001B[0m\u001B[0mvalues\u001B[0m\u001B[1;33m(\u001B[0m\u001B[1;33m)\u001B[0m\u001B[1;33m\u001B[0m\u001B[1;33m\u001B[0m\u001B[0m\n\u001B[0;32m      4\u001B[0m \u001B[1;33m\u001B[0m\u001B[0m\n\u001B[0;32m      5\u001B[0m \u001B[1;32mdef\u001B[0m \u001B[0mregion_solver\u001B[0m\u001B[1;33m(\u001B[0m\u001B[0mx\u001B[0m\u001B[1;33m)\u001B[0m\u001B[1;33m:\u001B[0m\u001B[1;33m\u001B[0m\u001B[1;33m\u001B[0m\u001B[0m\n",
      "\u001B[1;31mFileNotFoundError\u001B[0m: [Errno 2] No such file or directory: 'datasets/regions.json'"
     ]
    }
   ],
   "source": [
    "import json\n",
    "with open(r\"datasets/regions.json\", 'r') as fp:\n",
    "    _, resolved_regions = json.load(fp).values()\n",
    "\n",
    "def region_solver(x):\n",
    "    if pd.isna(x.region):\n",
    "        return 0\n",
    "    new_region = resolved_regions[f'{x.country}, {x.region}']\n",
    "    if isinstance(new_region, int):\n",
    "        return 0\n",
    "    return new_region\n",
    "    \n",
    "resolved = loans.progress_apply(region_solver, axis=1)\n",
    "loans['region_new'] = resolved"
   ]
  },
  {
   "cell_type": "code",
   "execution_count": null,
   "metadata": {},
   "outputs": [],
   "source": [
    "resolved_count = pd.DataFrame(resolved).groupby(0).size()\n",
    "total_resolved = resolved_count.sum() - resolved_count[0]\n",
    "print(f'We have resolved regions for {total_resolved} entries out of {resolved_count.sum()} which is {total_resolved/resolved_count.sum() * 100:.2f}%')"
   ]
  },
  {
   "cell_type": "markdown",
   "metadata": {},
   "source": [
    "#### 2.3.3.2 Merging with MPI regional & Fix missing values"
   ]
  },
  {
   "cell_type": "code",
   "execution_count": null,
   "metadata": {},
   "outputs": [],
   "source": [
    "loans_with_region_df = loans.query(\"region_new != 0\")\n",
    "loans_without_region_df = loans.query(\"region_new == 0\")\n",
    "\n",
    "loans_with_region_df = pd.merge(loans_with_region_df, mpi_region, left_on=['country','region_new'], right_on=['Country', \"Sub-national region\"])\n",
    "\n",
    "loans = pd.concat([loans_with_region_df, loans_without_region_df])\n",
    "\n",
    "fill_missing_values('MPI National', 0)\n",
    "fill_missing_values('MPI Regional', 0)\n",
    "fill_missing_values('Headcount Ratio Regional', 0)\n",
    "fill_missing_values('Intensity of deprivation Regional', 0)"
   ]
  },
  {
   "cell_type": "markdown",
   "metadata": {},
   "source": [
    "We've resovled almost 50% of the regions data. It's not perfect, but it adds a lot of data and probaly gives us more information than resolving a few countries individually. "
   ]
  },
  {
   "cell_type": "markdown",
   "metadata": {},
   "source": [
    "## 2.4 Country MPI\n",
    "Here we join the country data from the MPI data. The MPI dataset was explained at the beginning of the notebook."
   ]
  },
  {
   "cell_type": "code",
   "execution_count": null,
   "metadata": {},
   "outputs": [],
   "source": [
    "loans = pd.merge(loans, mpi_country, right_on='Country', left_on='country', how=\"left\")"
   ]
  },
  {
   "cell_type": "markdown",
   "metadata": {},
   "source": [
    "### 2.4.1 Fixing missing values"
   ]
  },
  {
   "cell_type": "code",
   "execution_count": null,
   "metadata": {},
   "outputs": [],
   "source": [
    "fill_missing_values('MPI Urban', 0) \n",
    "fill_missing_values('MPI Rural', 0)\n",
    "fill_missing_values('Headcount Ratio Urban', 0)\n",
    "fill_missing_values('Headcount Ratio Rural', 0)\n",
    "fill_missing_values('Intensity of Deprivation Urban', 0)\n",
    "fill_missing_values('Intensity of Deprivation Rural', 0)"
   ]
  },
  {
   "cell_type": "markdown",
   "metadata": {},
   "source": [
    "## 2.5 Labeling\n",
    "### 2.5.1 Amounts and labeling\n",
    "We will classify the loans into 2 categories - \n",
    "1. Successful - A loan which has been fully funded by Kiva lender,\n",
    "2. Unsuccessful - A partialy funded loan.\n",
    "<br>\n",
    "\n",
    "The label will be based on the following condition:<br>\n",
    "loan_amount - funded_amount == 0\n"
   ]
  },
  {
   "cell_type": "code",
   "execution_count": null,
   "metadata": {
    "scrolled": true
   },
   "outputs": [],
   "source": [
    "import seaborn as sns\n",
    "\n",
    "unsuccessful_loans_df = loans[loans['funded_amount'] < loans['loan_amount']]\n",
    "successful_loans_df = loans[loans['funded_amount'] == loans['loan_amount']]\n",
    "print(f'unsuccessful loans: {len(unsuccessful_loans_df)}, successful loans: {len(successful_loans_df)}')\n",
    "\n",
    "ax = pd.DataFrame([len(successful_loans_df), len(unsuccessful_loans_df)], index=[\"Successful\", \"Unsuccessful\"]).plot(kind=\"bar\")"
   ]
  },
  {
   "cell_type": "code",
   "execution_count": null,
   "metadata": {},
   "outputs": [],
   "source": [
    "successful_loans_df.loc[:,'Key'] = 'Successful'\n",
    "unsuccessful_loans_df.loc[:,'Key'] = 'Unsuccessful'\n",
    "loans_with_label = pd.concat([successful_loans_df, unsuccessful_loans_df]).reset_index(drop=True)"
   ]
  },
  {
   "cell_type": "markdown",
   "metadata": {},
   "source": [
    "### 2.5.2 Dealing with imbalanced data\n",
    "As it can be seen, the data isn't balanced, since (fortunately) most of the loans were successfully funded. <br>\n",
    "We present 3 different techniques to deal with it:<br>\n",
    "- <b>reduction of the succesful samples</b> - since there are less unsuccessful samples, an appropriate approach is not to use all the successful loans data.\n",
    "- <b>oversampling</b> - duplication of existing unsuccessful samples in order to enlarge the data set size.using imbalance datasets\n",
    "- <b>using imbalanced data sets</b> - by that taking more successful loans than unsuccessful loans. The simplest approach, but might lead to biases (the results were bad, so won't be presented here).\n"
   ]
  },
  {
   "cell_type": "markdown",
   "metadata": {},
   "source": [
    "#  <a class=\"anchor\" id=\"features\">3. Feature engineering</a>\n",
    "We will take fields from different columns and generate features from them. Some examples:\n",
    "1. Tags - some interesting tags can produce a boolean feature (exists or not)\n",
    "2. \"is_funded\" (boolean) - loan_amount - funded_amount == 0"
   ]
  },
  {
   "cell_type": "markdown",
   "metadata": {},
   "source": [
    "## 3.1 Gender Features\n",
    "We will extract 3 features: amount of borrowers, the existence of a feminine and the existence of a masculine.<br>\n",
    "In case of missing value in the borrower_genders field, the values are defined as follows, correspondingly: 0, False, False."
   ]
  },
  {
   "cell_type": "code",
   "execution_count": null,
   "metadata": {},
   "outputs": [],
   "source": [
    "loans_with_label['borrowers_amount'] = loans_with_label.apply(lambda r:len(r.borrower_genders.split(',')) if type(r.borrower_genders) is str else 0, axis=1)\n",
    "loans_with_label['has_female'] = loans_with_label.apply(lambda r:'female' in r.borrower_genders.split(',') if type(r.borrower_genders) is str else False, axis=1)\n",
    "loans_with_label['has_male'] = loans_with_label.apply(lambda r:'male' in r.borrower_genders.split(',') if type(r.borrower_genders) is str else False, axis=1)"
   ]
  },
  {
   "cell_type": "code",
   "execution_count": null,
   "metadata": {},
   "outputs": [],
   "source": [
    "males_count = loans_with_label.groupby(['Key', 'has_male']).size().unstack('has_male')[True]\n",
    "females_count = loans_with_label.groupby(['Key', 'has_female']).size().unstack('has_female')[True]\n",
    "gender_df = pd.DataFrame([males_count, females_count], index=['male', 'female'])\n",
    "gender_df[\"Successful\"] = gender_df[\"Successful\"].apply(lambda x: x / len(successful_loans_df) * 100)\n",
    "gender_df[\"Unsuccessful\"] = gender_df[\"Unsuccessful\"].apply(lambda x: x / len(unsuccessful_loans_df) * 100)\n",
    "ax = gender_df.transpose().plot(kind=\"bar\")"
   ]
  },
  {
   "cell_type": "markdown",
   "metadata": {},
   "source": [
    " #### Results\n",
    " This barplot shows the percentage of loans with male and female borrowers in successful and unsuccessful loans separately"
   ]
  },
  {
   "cell_type": "markdown",
   "metadata": {},
   "source": [
    "## 3.2 Loans use extraction\n",
    "The use column contains free text for the lenders to descrive the purpose of their loan. <br> \n",
    "First we will take a quick look at the data using wordcloud to get the genreral idea for the usage of the loans, and what the lenders need the money for. <br>\n",
    "And then we'll extract some features from the text.\n",
    "### 3.2.1 Exploring\n",
    "The use columns is a free text that describes the purpose of the loan, using a wordcloud can give the essence of successful and unsuucessful loans."
   ]
  },
  {
   "cell_type": "code",
   "execution_count": null,
   "metadata": {},
   "outputs": [],
   "source": [
    "stop_words = set(nltk.corpus.stopwords.words('english')) \n",
    "tokenizer = RegexpTokenizer(r'\\w+')\n",
    "final = []\n",
    "for use in successful_loans_df.use:\n",
    "    if type(use) != str:\n",
    "        continue\n",
    "    tokenized = tokenizer.tokenize(use)\n",
    "    filtered = [w.lower() for w in tokenized if w not in stop_words]\n",
    "    final.extend(filtered)\n",
    "#     final += \" \" + \" \".join(filtered)\n",
    "final_successful = \" \".join(final)\n",
    "\n",
    "stop_words = set(nltk.corpus.stopwords.words('english')) \n",
    "tokenizer = RegexpTokenizer(r'\\w+')\n",
    "final = []\n",
    "for use in unsuccessful_loans_df.use:\n",
    "    if type(use) != str:\n",
    "        continue\n",
    "    tokenized = tokenizer.tokenize(use)\n",
    "    filtered = [w.lower() for w in tokenized if w not in stop_words]\n",
    "    final.extend(filtered)\n",
    "#     final += \" \" + \" \".join(filtered)\n",
    "final_unsuccessful = \" \".join(final)"
   ]
  },
  {
   "cell_type": "code",
   "execution_count": null,
   "metadata": {},
   "outputs": [],
   "source": [
    "from wordcloud import WordCloud\n",
    "import matplotlib.pyplot as plt \n",
    "wordcloud = WordCloud(width = 800, height = 800, \n",
    "                background_color ='white', \n",
    "                stopwords = stop_words, \n",
    "                min_font_size = 10).generate(final_successful)\n",
    "\n",
    "plt.figure(figsize = (8, 8), facecolor = None) \n",
    "plt.imshow(wordcloud) \n",
    "plt.axis(\"off\") \n",
    "plt.tight_layout(pad = 0) \n",
    "\n",
    "print(\"Word clound for successful loans\")\n",
    "\n",
    "plt.show() "
   ]
  },
  {
   "cell_type": "code",
   "execution_count": null,
   "metadata": {},
   "outputs": [],
   "source": [
    "from wordcloud import WordCloud\n",
    "import matplotlib.pyplot as plt \n",
    "wordcloud = WordCloud(width = 800, height = 800, \n",
    "                background_color ='white', \n",
    "                stopwords = stop_words, \n",
    "                min_font_size = 10).generate(final_unsuccessful)\n",
    "\n",
    "plt.figure(figsize = (8, 8), facecolor = None) \n",
    "plt.imshow(wordcloud) \n",
    "plt.axis(\"off\") \n",
    "plt.tight_layout(pad = 0) \n",
    "\n",
    "print(\"Word clound for unsuccessful loans\")\n",
    "  \n",
    "plt.show() "
   ]
  },
  {
   "cell_type": "markdown",
   "metadata": {},
   "source": [
    "### 3.2.2 Extracting\n",
    "We will extract 4 features: Lexical Diversity, Text Length, Word Count and TF/IDF."
   ]
  },
  {
   "cell_type": "code",
   "execution_count": null,
   "metadata": {},
   "outputs": [],
   "source": [
    "unique_words = dict()\n",
    "def lexical_diversity(text):\n",
    "    tokenized_text = nltk.word_tokenize(text)\n",
    "    if len(tokenized_text) == 0:\n",
    "        return 0\n",
    "    for i in tokenized_text:\n",
    "        try:\n",
    "            unique_words[i] += 1\n",
    "        except:\n",
    "            unique_words[i] = 1\n",
    "    return len(set(tokenized_text)) / len(tokenized_text)\n",
    "\n",
    "loans_with_label['lexical_diversity'] = loans_with_label['use'].progress_apply(lexical_diversity)"
   ]
  },
  {
   "cell_type": "code",
   "execution_count": null,
   "metadata": {},
   "outputs": [],
   "source": [
    "loans_with_label['use_length'] = loans_with_label['use'].apply(lambda x: len(x))\n",
    "loans_with_label['word_count'] = loans_with_label['use'].progress_apply(lambda x: len(nltk.word_tokenize(x)))"
   ]
  },
  {
   "cell_type": "code",
   "execution_count": null,
   "metadata": {},
   "outputs": [],
   "source": [
    "import nltk\n",
    "from sklearn.feature_extraction.text import TfidfVectorizer \n",
    "\n",
    "filtered_use = loans['use'].apply(lambda x: x if not pd.isna(x) else \"\")\n",
    "\n",
    "tfidf_vectorizer = TfidfVectorizer(use_idf=True)\n",
    "tfidf_vectorizer_vectors = tfidf_vectorizer.fit_transform(filtered_use)\n",
    "\n",
    "# get the first vector out (for the first document)\n",
    "first_vector_tfidfvectorizer = tfidf_vectorizer_vectors[0]\n",
    "\n",
    "# place tf-idf values in a pandas data frame\n",
    "temp_df = pd.DataFrame(first_vector_tfidfvectorizer.T.todense(), index=tfidf_vectorizer.get_feature_names(), columns=[\"tfidf\"])\n",
    "tfidf_df = temp_df.sort_values(by=[\"tfidf\"],ascending=False)"
   ]
  },
  {
   "cell_type": "code",
   "execution_count": null,
   "metadata": {},
   "outputs": [],
   "source": [
    "tokenizer = nltk.RegexpTokenizer(r'\\w+')\n",
    "def tfidf_extraction(use):\n",
    "    values = []\n",
    "    for i in tokenizer.tokenize(use):\n",
    "        i = i.lower()\n",
    "        if i not in tfidf_df.index:\n",
    "            continue\n",
    "        values.append(tfidf_df.loc[i].iloc[0])\n",
    "    return np.array(values).max(initial=0)\n",
    "\n",
    "loans_with_label['tfidf'] = loans_with_label['use'].progress_apply(tfidf_extraction)"
   ]
  },
  {
   "cell_type": "code",
   "execution_count": null,
   "metadata": {},
   "outputs": [],
   "source": [
    "import seaborn as sns\n",
    "\n",
    "fig, axes = plt.subplots(nrows=1, ncols=3, figsize=(12,5))\n",
    "\n",
    "ax = sns.violinplot(x=\"Key\", y=\"word_count\", data=loans_with_label, ax=axes[0])\n",
    "ax = sns.violinplot(x=\"Key\", y=\"use_length\", data=loans_with_label, ax=axes[1])\n",
    "ax = sns.violinplot(x=\"Key\", y=\"lexical_diversity\", data=loans_with_label, ax=axes[2])\n",
    "\n",
    "plt.tight_layout()\n",
    "plt.show()"
   ]
  },
  {
   "cell_type": "markdown",
   "metadata": {},
   "source": [
    "#### Results\n",
    "By analyzing the prior charts, the successful loans seem to have a shorter but richer sentence in the use field."
   ]
  },
  {
   "cell_type": "markdown",
   "metadata": {},
   "source": [
    "## 3.3 Posted date extraction\n",
    "The dataset has 3 different date columns. Posted, funded and disbursed. <br>\n",
    "- Funded time is not useable because has 100% correlation with our labal (If a fund hasn't been fully funded, it won't have funded time)\n",
    "- Disbursed time column has too many missing entries.\n",
    "- Posted time is the only useful column, so we'll be using it for our features.\n",
    "\n",
    "We had 2 approaches for date extraction:\n",
    "1. Create boolean features for each day, month, year, day in the week (total of 31+12+5+7=55 features)\n",
    "2. Adding 4 numeric features (day, month, year, day in the week)\n",
    "While the first method might assist with find a better correlation, it is much longer to extract and to compute, and probably won't yield a significant difference.\n",
    "The second is quicker and easier, and we are not losing any data."
   ]
  },
  {
   "cell_type": "code",
   "execution_count": null,
   "metadata": {},
   "outputs": [],
   "source": [
    "from datetime import datetime\n",
    "def time_to_feature(date_):\n",
    "    date_ = datetime.strptime(date_, \"%Y-%m-%d %H:%M:%S+00:00\")\n",
    "    return pd.Series({\"posted_year\": date_.year, \"posted_month\": date_.month, \"posted_day\": date_.day, \"posted_weekday\": date_.weekday(), \"posted_hour\": date_.hour})\n",
    "\n",
    "posted_time_series = loans_with_label['posted_time'].progress_apply(time_to_feature)"
   ]
  },
  {
   "cell_type": "code",
   "execution_count": null,
   "metadata": {},
   "outputs": [],
   "source": [
    "# posted_time_series = posted_time_series.rename(columns={0:\"posted_year\", 1:\"posted_month\", 2:\"posted_day\", 3:\"posted_weekday\", 4:\"posted_hour\"})\n",
    "# \n",
    "loans_with_label = loans_with_label.merge(posted_time_series, left_index=True, right_index=True)\n",
    "# successful_with_mpi_df = successful_with_mpi_df.merge(named_posted_time_successful, left_index=True, right_index=True)"
   ]
  },
  {
   "cell_type": "markdown",
   "metadata": {},
   "source": [
    "## 3.4 Tags\n",
    "The tags column contains one cell for each loan entry. This single cell might contain more than one tag, in order to use this data we'll have to create a feature for each different tag that exists in dataset set. <br>\n",
    "The Tags column might be useful, so we will have to preprocess it.<br>\n",
    "This section adds tags as independent columns. It takes a while to compute."
   ]
  },
  {
   "cell_type": "markdown",
   "metadata": {},
   "source": [
    "### 3.4.1 Tags preprocessing"
   ]
  },
  {
   "cell_type": "code",
   "execution_count": null,
   "metadata": {},
   "outputs": [],
   "source": [
    "def get_tag_list(tags):\n",
    "    stags = set()\n",
    "    if type(tags) != str:\n",
    "        return set()\n",
    "    tags = tags.split(\",\")\n",
    "    for tag in tags:\n",
    "        tag = tag.strip(\"# '\")\n",
    "        stags.add(tag)\n",
    "    return stags\n",
    "\n",
    "all_tags = set()\n",
    "for tags in loans.tags:\n",
    "    all_tags.update(get_tag_list(tags))\n",
    "print(f'Total tags obtained: {len(all_tags)}')\n",
    "\n",
    "loans_with_label['tag_list'] = loans_with_label.apply(lambda r: get_tag_list(r['tags']), axis=1)"
   ]
  },
  {
   "cell_type": "markdown",
   "metadata": {},
   "source": [
    "### 3.4.2 Tags extraction"
   ]
  },
  {
   "cell_type": "code",
   "execution_count": null,
   "metadata": {
    "scrolled": true
   },
   "outputs": [],
   "source": [
    "# print(f'Finished: ', end='')\n",
    "for tag in tqdm(all_tags):\n",
    "    loans_with_label[f'{tag}_tag'] = loans_with_label.apply(lambda r: tag in r['tag_list'], axis=1)\n",
    "#     print(f'{tag}, ', end='')\n",
    "    "
   ]
  },
  {
   "cell_type": "markdown",
   "metadata": {},
   "source": [
    "### 3.4.3 Tags selection"
   ]
  },
  {
   "cell_type": "code",
   "execution_count": null,
   "metadata": {
    "scrolled": true
   },
   "outputs": [],
   "source": [
    "tag_names = [tag + '_tag' for tag in all_tags]\n",
    "tags_df = pd.DataFrame(index=tag_names, columns =['successful', 'unsuccessful'])\n",
    "appearance_tags_df = pd.DataFrame(columns =['successful', 'unsuccessful'])\n",
    "successful_with_tags = loans_with_label.query(\"Key == 'Successful'\")\n",
    "unsuccessful_with_tags = loans_with_label.query(\"Key == 'Unsuccessful'\")\n",
    "for tag in tag_names:    \n",
    "    sudf_num = int(successful_with_tags[successful_with_tags[tag] == 1].count().iloc[0] / successful_with_tags.count().iloc[0] * 100)\n",
    "    undf_num = int(unsuccessful_with_tags[unsuccessful_with_tags[tag] == 1].count().iloc[0] / unsuccessful_with_tags.count().iloc[0] * 100)\n",
    "    tags_df.loc[tag] = [sudf_num, undf_num]\n",
    "    if sudf_num != 0 or undf_num != 0:\n",
    "        appearance_tags_df.loc[tag] = [sudf_num, undf_num]\n"
   ]
  },
  {
   "cell_type": "code",
   "execution_count": null,
   "metadata": {},
   "outputs": [],
   "source": [
    "appearance_tags_df.index.name = 'tags'\n",
    "tags_df_melted = appearance_tags_df.reset_index().melt(var_name='% appearance', value_name='b', id_vars=['tags'])\n",
    "ax = sns.barplot(y='tags', x='b', hue='% appearance', data=tags_df_melted)"
   ]
  },
  {
   "cell_type": "code",
   "execution_count": null,
   "metadata": {},
   "outputs": [],
   "source": [
    "# tag_names = [tag + '_tag' for tag in all_tags]+['has_female', 'has_male']\n",
    "# view_tags = loans_with_label[tag_names+[\"Key\"]]\n",
    "# sns.barplot(x=view_tags.columns, data=view_tags, hue=\"Key\", estimator=lambda x: x==True)"
   ]
  },
  {
   "cell_type": "markdown",
   "metadata": {},
   "source": [
    "### 3.4.4 Different tag versions\n",
    "We tried out all the versions below, but the third one has gained the best results - using only 'user_favorite' tag."
   ]
  },
  {
   "cell_type": "code",
   "execution_count": null,
   "metadata": {},
   "outputs": [],
   "source": [
    "#tags_selected = ['Vegan_tag', 'Elderly_tag', 'Woman Owned Biz_tag', 'Schooling_tag', 'Animals_tag', 'user_favorite_tag', 'Parent_tag', 'Repeat Borrower_tag']\n",
    "# tags_selected = ['user_favorite_tag', 'Parent_tag', 'Repeat Borrower_tag', 'Woman Owned Biz_tag']\n",
    "tags_selected = ['user_favorite_tag']"
   ]
  },
  {
   "cell_type": "markdown",
   "metadata": {},
   "source": [
    "## 3.5 Additional Features\n",
    "So far we've proccessed the data in order for it to be usable as a feature. <br>\n",
    "Now, let's look at the rest of the data and see how usful it can be for our prediction <br>\n",
    "These plots are ment to give as a glimpse at how this data might affects our model <br>\n",
    "The plots shows the ratio of a certain feature within successful or unsuccessful entries."
   ]
  },
  {
   "cell_type": "markdown",
   "metadata": {},
   "source": [
    "### 3.5.1 Loan amount\n",
    "\n",
    "#### 3.5.1.1 Sectors\n",
    "Here we get an impression of which loan sectors are more likely to be funded. <br>\n",
    "The ratios seem to be even among successful and unsuccessful loans, but some field seem to be more likely to be more successful (Personal use, Education and food)."
   ]
  },
  {
   "cell_type": "code",
   "execution_count": null,
   "metadata": {
    "scrolled": true
   },
   "outputs": [],
   "source": [
    "import matplotlib.pyplot as plt\n",
    "import seaborn as sns\n",
    "\n",
    "sectors = loans.sector.unique()\n",
    "\n",
    "sector_loans_df = loans_with_label.groupby([\"sector\", \"Key\"]).size().unstack(\"Key\")\n",
    "sector_loans_df[\"Successful\"] = sector_loans_df[\"Successful\"].apply(lambda x: x / len(successful_loans_df) * 100)\n",
    "sector_loans_df[\"Unsuccessful\"] = sector_loans_df[\"Unsuccessful\"].apply(lambda x: x / len(unsuccessful_loans_df) * 100)\n",
    "sector_loans_df.plot(kind=\"bar\")\n"
   ]
  },
  {
   "cell_type": "markdown",
   "metadata": {},
   "source": [
    "#### 3.5.1.2 Loan amount by sector\n",
    "\n",
    "Lets take a look at average loan amount per sector of successful and unsuccesful loans. <br>\n",
    "This box plot gives join the sector and the loan amount that we looked at previously."
   ]
  },
  {
   "cell_type": "code",
   "execution_count": null,
   "metadata": {
    "scrolled": true
   },
   "outputs": [],
   "source": [
    "\n",
    "ax = sns.boxplot(x=\"sector\", y=\"loan_amount\", data=loans_with_label, hue=\"Key\")\n",
    "ax.set_yscale(\"log\")\n",
    "ax.set_xticklabels(ax.get_xticklabels(), rotation=90)\n",
    "plt.tight_layout()\n",
    "plt.show()"
   ]
  },
  {
   "cell_type": "markdown",
   "metadata": {},
   "source": [
    "We can see that for each sector, the average loan amount is greater on unsuccessful loans. We can also see which sector requests for higher loans, and what is the average request that succeeds (for each sector). "
   ]
  },
  {
   "cell_type": "markdown",
   "metadata": {},
   "source": [
    "#### 3.5.1.3 Loan amount\n",
    "On average, unsuccessful loans request for higher amounts"
   ]
  },
  {
   "cell_type": "code",
   "execution_count": null,
   "metadata": {},
   "outputs": [],
   "source": [
    "ax = sns.boxplot(x=\"Key\", y=\"loan_amount\", data=loans_with_label)\n",
    "# ax.set_xticklabels([\"Successful\", \"Unsuccessful\"])\n",
    "ax.set_yscale('log')\n",
    "plt.show()"
   ]
  },
  {
   "cell_type": "markdown",
   "metadata": {},
   "source": [
    "### 3.5.2 Other\n",
    "#### 3.5.2.1 Term in months\n",
    "We can see here that on average, unsuccessful loans request for a longer term to return the loans."
   ]
  },
  {
   "cell_type": "code",
   "execution_count": null,
   "metadata": {},
   "outputs": [],
   "source": [
    "plt.subplot(1, 2, 1)\n",
    "ax = sns.boxplot(x=\"Key\", y=\"term_in_months\", data=loans_with_label)\n",
    "ax.set_yscale('log')\n",
    "plt.subplot(1, 2, 2)\n",
    "ax = sns.barplot(x=\"Key\", y=\"term_in_months\", data=loans_with_label)\n",
    "\n",
    "plt.tight_layout()\n",
    "plt.show()"
   ]
  },
  {
   "cell_type": "markdown",
   "metadata": {},
   "source": [
    "#### 3.5.2.2 Repayment interval\n",
    "Most of the unsuccessful loans have monthly repayment interval, while almost 50% of the successful loans have irregular interval. It seems a bit odd, since borrowers might prefer a safer repayment method, but this is probably a classic case of causation != correlation. There's probably a probably different cause for this diff on the interval rate, but nevertheless it can be a useful feature."
   ]
  },
  {
   "cell_type": "code",
   "execution_count": null,
   "metadata": {},
   "outputs": [],
   "source": [
    "import matplotlib.pyplot as plt\n",
    "import seaborn as sns\n",
    "\n",
    "repayment_intervals = loans_with_label.repayment_interval.unique()\n",
    "\n",
    "\n",
    "loans_by_repayment = loans_with_label.groupby([\"Key\", \"repayment_interval\"]).size().unstack(\"Key\")\n",
    "loans_by_repayment[\"Successful\"] = loans_by_repayment[\"Successful\"].apply(lambda x: x / len(successful_loans_df) * 100)\n",
    "loans_by_repayment[\"Unsuccessful\"] = loans_by_repayment[\"Unsuccessful\"].apply(lambda x: x / len(unsuccessful_loans_df) * 100)\n",
    "loans_by_repayment.plot(kind=\"bar\")"
   ]
  },
  {
   "cell_type": "markdown",
   "metadata": {},
   "source": [
    "#### 3.5.2.3 MPI"
   ]
  },
  {
   "cell_type": "code",
   "execution_count": null,
   "metadata": {},
   "outputs": [],
   "source": [
    "fig, axes = plt.subplots(nrows=3, ncols=2, figsize=(12,15))\n",
    "\n",
    "ax = sns.violinplot(x=\"Key\", y=\"MPI Urban\", data=loans_with_label, ax=axes[0, 0])\n",
    "ax = sns.violinplot(x=\"Key\", y=\"MPI Rural\", data=loans_with_label, ax=axes[0, 1])\n",
    "ax = sns.violinplot(x=\"Key\", y=\"Headcount Ratio Urban\", data=loans_with_label, ax=axes[1, 0])\n",
    "ax = sns.violinplot(x=\"Key\", y=\"Headcount Ratio Rural\", data=loans_with_label, ax=axes[1, 1])\n",
    "ax = sns.violinplot(x=\"Key\", y=\"Intensity of Deprivation Urban\", data=loans_with_label, ax=axes[2, 0])\n",
    "ax = sns.violinplot(x=\"Key\", y=\"Intensity of Deprivation Rural\", data=loans_with_label, ax=axes[2, 1])\n",
    "\n",
    "plt.tight_layout()\n",
    "plt.show()"
   ]
  },
  {
   "cell_type": "code",
   "execution_count": null,
   "metadata": {},
   "outputs": [],
   "source": [
    "plt.subplot(2, 2, 1)\n",
    "ax = sns.barplot(x=\"Key\", y=\"MPI National\", data=loans_with_label)\n",
    "plt.subplot(2, 2, 2)\n",
    "ax = sns.barplot(x=\"Key\", y=\"MPI Regional\", data=loans_with_label)\n",
    "plt.subplot(2, 2, 3)\n",
    "ax = sns.barplot(x=\"Key\", y=\"Headcount Ratio Regional\", data=loans_with_label)\n",
    "plt.subplot(2, 2, 4)\n",
    "ax = sns.barplot(x=\"Key\", y=\"Intensity of deprivation Regional\", data=loans_with_label)\n",
    "plt.tight_layout()\n",
    "plt.show()"
   ]
  },
  {
   "cell_type": "markdown",
   "metadata": {},
   "source": [
    "These plots show the MPI information of successful and unsuccessful loans. <br>\n",
    "The pattern is that the MPI index is greater among the successful loans, on average, for both the regional MPI and National MPI. <br>\n",
    "This means, that most of the successful loans are aimed toward countries with higher MPI index (or in other words, the people who needs the loans the most)"
   ]
  },
  {
   "cell_type": "markdown",
   "metadata": {},
   "source": [
    "\n",
    "## 3.6 Selected Features"
   ]
  },
  {
   "cell_type": "markdown",
   "metadata": {},
   "source": [
    "These dataframes (undf, sudf) will be used for the final composition of the data set."
   ]
  },
  {
   "cell_type": "code",
   "execution_count": null,
   "metadata": {},
   "outputs": [],
   "source": [
    "selected_features_df = loans_with_label.loc[:, ['Key',\n",
    "    'loan_amount', 'sector', 'activity', 'term_in_months', 'repayment_interval', \n",
    "    'MPI Urban', 'Headcount Ratio Urban', 'Intensity of Deprivation Urban', 'MPI Rural', 'Headcount Ratio Rural',\n",
    "    'Intensity of Deprivation Rural', 'partner_id', 'country_code', 'borrowers_amount', 'has_male', 'has_female',\n",
    "    'posted_year','posted_month', 'posted_day', 'posted_weekday', # 'posted_hour', \n",
    "    'lexical_diversity', 'use_length', 'word_count',  'lender_count', \n",
    "    'MPI National', 'MPI Regional', 'Headcount Ratio Regional', 'Intensity of deprivation Regional', \n",
    "    'tfidf',\n",
    "] + tags_selected]\n",
    "print(f'number of features: {len(selected_features_df.columns)}')"
   ]
  },
  {
   "cell_type": "code",
   "execution_count": null,
   "metadata": {},
   "outputs": [],
   "source": [
    "selected_features_df.groupby(\"Key\").size()"
   ]
  },
  {
   "cell_type": "markdown",
   "metadata": {},
   "source": [
    "#  <a class=\"anchor\" id=\"encoding\">4. Encoding</a>\n",
    "We have some other relevant features to be encoded before we can use them."
   ]
  },
  {
   "cell_type": "markdown",
   "metadata": {},
   "source": [
    "## 4.1 Encoding Features\n",
    "Now we will encode the feature on the whole dataset."
   ]
  },
  {
   "cell_type": "code",
   "execution_count": null,
   "metadata": {},
   "outputs": [],
   "source": [
    "from sklearn.preprocessing import LabelEncoder\n",
    "\n",
    "sector_le = LabelEncoder()\n",
    "activity_le = LabelEncoder()\n",
    "pay_int_le = LabelEncoder()\n",
    "country_code_le = LabelEncoder()\n",
    "has_male_le = LabelEncoder()\n",
    "has_female_le = LabelEncoder()"
   ]
  },
  {
   "cell_type": "code",
   "execution_count": null,
   "metadata": {},
   "outputs": [],
   "source": [
    "country_code_le.fit(selected_features_df['country_code'])\n",
    "\n",
    "sector_le.fit(selected_features_df['sector'].unique())\n",
    "activity_le.fit(selected_features_df['activity'].unique())\n",
    "pay_int_le.fit(selected_features_df['repayment_interval'])\n",
    "selected_features_df['sector'] = sector_le.transform(selected_features_df['sector'])\n",
    "has_male_le.fit(selected_features_df['has_male'])\n",
    "has_female_le.fit(selected_features_df['has_female'])\n",
    "\n",
    "selected_features_df['activity'] = activity_le.transform(selected_features_df['activity'])\n",
    "selected_features_df['repayment_interval'] = pay_int_le.transform(selected_features_df['repayment_interval'])\n",
    "selected_features_df['country_code'] = country_code_le.transform(selected_features_df['country_code'])\n",
    "selected_features_df['has_male'] = has_male_le.transform(selected_features_df['has_male'])\n",
    "selected_features_df['has_female'] = has_male_le.transform(selected_features_df['has_female'])\n",
    "\n",
    "for tag in tags_selected:\n",
    "    le = LabelEncoder()\n",
    "    le.fit(selected_features_df[tag])\n",
    "    selected_features_df[tag] = le.transform(selected_features_df[tag])"
   ]
  },
  {
   "cell_type": "code",
   "execution_count": null,
   "metadata": {
    "scrolled": false
   },
   "outputs": [],
   "source": [
    "selected_features_df.describe()"
   ]
  },
  {
   "cell_type": "markdown",
   "metadata": {},
   "source": [
    "## 4.2  Biased encoding\n",
    "On our previous attempt we separated the label using different dataframes (we didn't merge unsuccessful_loans_df and successful_loans_df). When we applied and proccesed the features, we've done the processing for both the dataframes. <br>\n",
    "Eventually, when we reached the encoding, we had to encode them separatly as well. Since we've encoded the succeessful and unsuccessful entries one after the other, our encoded data had biased value. <br>\n",
    "The data was biased because some of the encoded value existed only in one of the datasets, so the DNN could classify the data with a great success rate using only the encoded data. <br>\n",
    "With the biased encdoing we've reached success rate of 99%..."
   ]
  },
  {
   "cell_type": "markdown",
   "metadata": {},
   "source": [
    "#  <a class=\"anchor\" id=\"models\">5. Models</a>\n",
    "## 5.1 Introduction\n"
   ]
  },
  {
   "attachments": {
    "image.png": {
     "image/png": "[encoded data removed]"
    }
   },
   "cell_type": "markdown",
   "metadata": {},
   "source": [
    "### 5.1.1 POC SGDClassifier (initial model)\n",
    "The first model we trained for the proposal of this notebook was SGDClassifier. The results weren't very promising, they are presented here as a reference:<br>\n",
    "![image.png](attachment:image.png)\n",
    "<br>\n"
   ]
  },
  {
   "cell_type": "markdown",
   "metadata": {},
   "source": [
    "### 5.1.2 Further Models\n",
    "We continued the research and trained an MLPClassifier (DNN model) and gained much better results! \n",
    "We have 1 SGD model and 3 DNN models. \n",
    "- DS1 - The SGD simply includes all of our extracted features, and we'll be able to see the improvement from the POC\n",
    "- DS2 - The first DNN was trained on the same dataset as the last SGDClassifier, and does not include regional MPI data. We wanted to compare the results of a DNN and an SGD models, without changing the data or the features.\n",
    "- DS3 - The second DNN is the same as the first one, but we tried to deal with the unbalanced dataset using oversampling. It should be compared to DS2.\n",
    "- DS4 - In this model, we tried to deal with the imbalanced data by building imbalanced datasets. The successful loans amount in the training set is double in size, compared to the unsuccessful loans amount.\n",
    "- DS5 - The last DNN includes the regional MPI features. Except that, it was trained on the same dataset as the first DNN model, so it should be compared to DS2.\n",
    "\n",
    "The models, including composition, training and testing, are presented below.\n"
   ]
  },
  {
   "cell_type": "code",
   "execution_count": null,
   "metadata": {},
   "outputs": [],
   "source": [
    "from sklearn.neural_network import MLPClassifier\n",
    "from sklearn.pipeline import make_pipeline\n",
    "from sklearn.preprocessing import StandardScaler"
   ]
  },
  {
   "cell_type": "markdown",
   "metadata": {},
   "source": [
    "### 5.1.3 Randomizing and initial sizes"
   ]
  },
  {
   "cell_type": "code",
   "execution_count": null,
   "metadata": {
    "scrolled": true
   },
   "outputs": [],
   "source": [
    "# selected_features_df = selected_features_df.sample(frac=1).reset_index(drop=True)\n",
    "sudf_main = selected_features_df.query(\"Key == 'Successful'\").drop([\"Key\"], axis=1)\n",
    "undf_main = selected_features_df.query(\"Key == 'Unsuccessful'\").drop([\"Key\"], axis=1)\n",
    "sudf_main = sudf_main.sample(frac=1).reset_index(drop=True)\n",
    "undf_main = undf_main.sample(frac=1).reset_index(drop=True)\n",
    "print(f'amount of successful loans: {len(sudf_main)}')\n",
    "print(f'amount of unsuccessful loans: {len(undf_main)}')"
   ]
  },
  {
   "cell_type": "markdown",
   "metadata": {},
   "source": [
    "As we can see here, the data isn't balanced. We present here 3 possible solutions, solutions 1+2 will be exemplified as DS2 and DS3 correspondingly:\n",
    "1. <b>reducing the succesful samples</b> - since there are less unsuccessful samples, an appropriate approach is not to use all the successful loans data.\n",
    "2. <b>oversampling</b> - duplication of existing unsuccessful samples in order to enlarge the data set size.\n",
    "3. <b>using imbalance datasets</b> - using data \"as-is\", by that taking more successful loans than unsuccessful loans. The simplest approach, but might lead to biases (the results were bad, so won't be presented here)."
   ]
  },
  {
   "cell_type": "markdown",
   "metadata": {},
   "source": [
    "## 5.2 Extended SGDClassifier (DS1)\n",
    "The extended SGDClassifier model includes all the features we have seen above in the feature engineering process. We've added dozens of features, which lead to much better results than the POC model.<br>\n",
    "To make it clear - this model is the same one as the SGDClassifier in the POC, except the features we've added, which improved the results."
   ]
  },
  {
   "cell_type": "markdown",
   "metadata": {},
   "source": [
    "### 5.2.1 Composition\n",
    "Since there are less unsuccessful loans, we took 2/3 of them for training and corresponding amount from the sucesssful loans. The rest (a third of the unsuccessful and a corresponding amount of the successful) will be used for test.<br>"
   ]
  },
  {
   "cell_type": "code",
   "execution_count": null,
   "metadata": {},
   "outputs": [],
   "source": [
    "sudf = sudf_main.drop(['MPI National', 'MPI Regional', 'Headcount Ratio Regional', 'Intensity of deprivation Regional'], axis=1)\n",
    "undf = undf_main.drop(['MPI National', 'MPI Regional', 'Headcount Ratio Regional', 'Intensity of deprivation Regional'], axis=1)\n",
    "\n",
    "# take only 2/3 of the data for training (based on undf size, since undf is 39,878 and sudf is 550,560)\n",
    "count = int(len(undf) * 2 / 3)\n",
    "print(f'size of training set (successful and unsuccessful): {count*2}')\n",
    "Y = []\n",
    "Y.extend(np.zeros(count)) # for unsuccessful loans - undf\n",
    "Y.extend(np.ones(count)) # for successful loans - sudf\n",
    "Y = np.array(Y)\n",
    "X = pd.concat([undf[:count], sudf[:count]], ignore_index=True)\n",
    "\n",
    "# predict test set - 1/3 of the undf data, or 1/2 of the training set\n",
    "end_test_set_count = int(3*count/2) + 1\n",
    "print(f'size of test set (successful and unsuccessful): {count}')\n",
    "\n",
    "X_test = pd.concat([undf[count:], sudf[count:end_test_set_count]], ignore_index=True).reset_index(drop=True)\n",
    "y_test = np.concatenate((np.zeros(int(count/2)+1), np.ones(int(count/2)+1)))"
   ]
  },
  {
   "cell_type": "markdown",
   "metadata": {},
   "source": [
    "### 5.2.2 Training"
   ]
  },
  {
   "cell_type": "code",
   "execution_count": null,
   "metadata": {},
   "outputs": [],
   "source": [
    "from sklearn.linear_model import SGDClassifier\n",
    "\n",
    "classifier = SGDClassifier(max_iter=1000)\n",
    "clf = make_pipeline(StandardScaler(),classifier)\n",
    "clf.fit(X, Y)"
   ]
  },
  {
   "cell_type": "markdown",
   "metadata": {},
   "source": [
    "### 5.2.3 Testing"
   ]
  },
  {
   "cell_type": "code",
   "execution_count": null,
   "metadata": {},
   "outputs": [],
   "source": [
    "from sklearn.metrics import plot_confusion_matrix\n",
    "\n",
    "disp = plot_confusion_matrix(clf, X_test, y_test,\n",
    "                             display_labels=['unsuccessful','successful'],\n",
    "                             cmap=plt.cm.Blues,\n",
    "                             normalize='true',\n",
    "                            values_format='.4g')\n",
    "disp.ax_.set_title('normalized confusion matrix')\n",
    "print(disp.confusion_matrix)"
   ]
  },
  {
   "cell_type": "markdown",
   "metadata": {},
   "source": [
    "## 5.3 Basic MLPClassifier (DS2)\n",
    "We use here the same data sets (composition, features) as we used for the Extended SGDClassifier, so we can compare the results of MLP against SGD.<br>\n",
    "The data was not oversampled. Also, it doesn't include any new features."
   ]
  },
  {
   "cell_type": "markdown",
   "metadata": {},
   "source": [
    "### 5.3.1 Composition\n",
    "Same as the Extended SGDClassifier."
   ]
  },
  {
   "cell_type": "code",
   "execution_count": null,
   "metadata": {},
   "outputs": [],
   "source": [
    "sudf = sudf_main.drop(['MPI National', 'MPI Regional', 'Headcount Ratio Regional', 'Intensity of deprivation Regional'], axis=1)\n",
    "undf = undf_main.drop(['MPI National', 'MPI Regional', 'Headcount Ratio Regional', 'Intensity of deprivation Regional'], axis=1)"
   ]
  },
  {
   "cell_type": "code",
   "execution_count": null,
   "metadata": {},
   "outputs": [],
   "source": [
    "# take only 2/3 of the data for training (based on undf size, since undf is 39,878 and sudf is 550,560)\n",
    "count = int(len(undf) * 2 / 3)\n",
    "print(f'size of training set (successful and unsuccessful): {count*2}')\n",
    "Y = []\n",
    "Y.extend(np.zeros(count)) # for unsuccessful loans - undf\n",
    "Y.extend(np.ones(count)) # for successful loans - sudf\n",
    "Y = np.array(Y)\n",
    "X = pd.concat([undf[:count], sudf[:count]], ignore_index=True)\n",
    "\n",
    "# predict test set - 1/3 of the undf data, or 1/2 of the training set\n",
    "end_test_set_count = int(3*count/2) + 1\n",
    "print(f'size of test set (successful and unsuccessful): {count}')\n",
    "\n",
    "X_test = pd.concat([undf[count:], sudf[count:end_test_set_count]], ignore_index=True).reset_index(drop=True)\n",
    "y_test = np.concatenate((np.zeros(int(count/2)+1), np.ones(int(count/2)+1)))\n"
   ]
  },
  {
   "cell_type": "markdown",
   "metadata": {},
   "source": [
    "### 5.3.2 Training"
   ]
  },
  {
   "cell_type": "code",
   "execution_count": null,
   "metadata": {},
   "outputs": [],
   "source": [
    "classifier = MLPClassifier(max_iter=500, hidden_layer_sizes=(15, 15, 15))\n",
    "clf = make_pipeline(StandardScaler(),classifier)\n",
    "clf.fit(X, Y)"
   ]
  },
  {
   "cell_type": "markdown",
   "metadata": {},
   "source": [
    "### 5.3.3 Testing"
   ]
  },
  {
   "cell_type": "code",
   "execution_count": null,
   "metadata": {
    "scrolled": true
   },
   "outputs": [],
   "source": [
    "from sklearn.metrics import plot_confusion_matrix\n",
    "\n",
    "disp = plot_confusion_matrix(clf, X_test, y_test,\n",
    "                             display_labels=['unsuccessful','successful'],\n",
    "                             cmap=plt.cm.Blues,\n",
    "                             normalize='true',\n",
    "                            values_format='.4g')\n",
    "disp.ax_.set_title('normalized confusion matrix')\n",
    "print(disp.confusion_matrix)\n"
   ]
  },
  {
   "cell_type": "markdown",
   "metadata": {},
   "source": [
    "### 5.3.4 Results Analysis\n",
    "The results on the first test set are much better than the Extended SGDClassifier model (DS1). From now on, we will present only MLP models."
   ]
  },
  {
   "cell_type": "code",
   "execution_count": null,
   "metadata": {},
   "outputs": [],
   "source": [
    "plt.plot(classifier.loss_curve_)"
   ]
  },
  {
   "cell_type": "markdown",
   "metadata": {},
   "source": [
    "### 5.3.4 Testing the remaining successful loans\n",
    "Since we don't use all the successful loans, we can utilize the rest as another benchmark on successful loans solely. The results are pretty impressive."
   ]
  },
  {
   "cell_type": "code",
   "execution_count": null,
   "metadata": {},
   "outputs": [],
   "source": [
    "X_success_test = sudf[count:].reset_index(drop=True)\n",
    "y_success_test = np.ones(len(X_success_test))\n",
    "\n",
    "disp = plot_confusion_matrix(clf, X_success_test, y_success_test,\n",
    "                             display_labels=['unsuccessful','successful'],\n",
    "                             cmap=plt.cm.Blues,\n",
    "                             normalize='true',\n",
    "                            values_format='.4g')\n",
    "disp.ax_.set_title('normalized confusion matrix')\n",
    "print(disp.confusion_matrix)\n"
   ]
  },
  {
   "cell_type": "markdown",
   "metadata": {},
   "source": [
    "## 5.4 Oversampled MLPClassifier (DS3)\n",
    "\n",
    "This dataset involves a technique called oversampling. Since we have less unsuccessful data, we'd like to oversample the existing data. That way, we can use more unique successful data, and enlarge the general size of the data set.<br>"
   ]
  },
  {
   "cell_type": "markdown",
   "metadata": {},
   "source": [
    "### 5.4.1 Composition\n",
    "For this training cycle, we split the unsuccessful loans again into two parts:<br>\n",
    "* two thirds - for training (to be oversampled)\n",
    "* a third - for testing\n",
    "<br>\n",
    "\n",
    "We took a corresponding amount of successful loans for both training and test sets."
   ]
  },
  {
   "cell_type": "code",
   "execution_count": null,
   "metadata": {},
   "outputs": [],
   "source": [
    "from collections import Counter\n",
    "\n",
    "# undf - take only 2/3 of the data for training\n",
    "sudf_training_count = int(len(sudf) * 2 / 3)\n",
    "undf_training_count = int(len(undf) * 2 / 3)\n",
    "\n",
    "# predict test set - 1/3 of the undf data\n",
    "sudf_test_count = int(len(sudf) / 3)\n",
    "undf_test_count = int(undf_training_count / 2)\n",
    "\n",
    "# print(f'size of training set (successful and unsuccessful): {count*2}')\n",
    "Y_to_re = []\n",
    "Y_to_re.extend(np.zeros(undf_training_count)) # for unsuccessful loans - undf\n",
    "Y_to_re.extend(np.ones(sudf_training_count)) # for successful loans - sudf\n",
    "Y_to_re = np.array(Y_to_re)\n",
    "X_to_re = pd.concat([undf[:undf_training_count], sudf[:sudf_training_count]], ignore_index=True)\n",
    "print(f'size of training (x): {len(X_to_re)}, size of training label (Y): {len(Y_to_re)}')\n",
    "\n",
    "test_undf = undf[-undf_test_count:]\n",
    "test_sudf = sudf[-undf_test_count:]\n",
    "X_test_to_re = pd.concat([test_undf, test_sudf], ignore_index=True).reset_index(drop=True)\n",
    "Y_test_to_re = np.concatenate((np.zeros(undf_test_count), np.ones(undf_test_count)))\n",
    "print(f'size of test (x): {len(X_test_to_re)}, size of test label (Y): {len(Y_test_to_re)}')\n",
    "\n",
    "print(Counter(Y_to_re))"
   ]
  },
  {
   "cell_type": "markdown",
   "metadata": {},
   "source": [
    "### 5.4.2 Oversampling\n",
    "Here we extend the unsuccessful loans to be the same size as the successful loans, using oversampling."
   ]
  },
  {
   "cell_type": "code",
   "execution_count": null,
   "metadata": {},
   "outputs": [],
   "source": [
    "from imblearn.over_sampling import SMOTE\n",
    "\n",
    "X_resampled, Y_resampled = SMOTE(sampling_strategy='minority').fit_resample(X_to_re,Y_to_re)\n",
    "print(f'new size of training samples (x): {len(X_resampled)}, training labeled (Y): {len(Y_resampled)}')\n",
    "\n",
    "print(Counter(Y_resampled))"
   ]
  },
  {
   "cell_type": "markdown",
   "metadata": {},
   "source": [
    "### 5.4.3 Training"
   ]
  },
  {
   "cell_type": "code",
   "execution_count": null,
   "metadata": {},
   "outputs": [],
   "source": [
    "# train a model\n",
    "classifier_resampling = MLPClassifier(max_iter=500, hidden_layer_sizes=(15, 15, 15))\n",
    "clf_resampling = make_pipeline(StandardScaler(),classifier_resampling)\n",
    "clf_resampling.fit(X_resampled, Y_resampled)\n"
   ]
  },
  {
   "cell_type": "markdown",
   "metadata": {},
   "source": [
    "### 5.4.4 Testing"
   ]
  },
  {
   "cell_type": "code",
   "execution_count": null,
   "metadata": {},
   "outputs": [],
   "source": [
    "# predict test set\n",
    "from sklearn.metrics import plot_confusion_matrix\n",
    "disp = plot_confusion_matrix(clf_resampling, X_test_to_re, Y_test_to_re,\n",
    "                             display_labels=['unsuccessful','successful'],\n",
    "                             cmap=plt.cm.Blues,\n",
    "                             normalize='true',\n",
    "                            values_format='.4g')\n",
    "disp.ax_.set_title('normalized confusion matrix')\n",
    "print(disp.confusion_matrix)\n",
    "\n"
   ]
  },
  {
   "cell_type": "markdown",
   "metadata": {},
   "source": [
    "### 5.4.5 Results Analysis\n",
    "The results (compared to the Basic MLPClassifier) on the successful loans remain the same. However, the unsuccessful loans seem to be worse. The oversampling might be too aggressive, or it might just not be the right solution to the problem."
   ]
  },
  {
   "attachments": {
    "image.png": {
     "image/png": "[encoded data removed]"
    }
   },
   "cell_type": "markdown",
   "metadata": {},
   "source": [
    "### 5.4.6 Another oversampled model\n",
    "In order to test our hypothesis, we trained another oversampled model, but only x2 for the unsuccessful loans (instead of x12 in the last one).<br>\n",
    "The results indicate our hypothesis. The successful loans seem to be better than the Basic MLPClassifier, but worse than the first oversampled model. The same results work for the unsuccessful loans.<br>\n",
    "The bottom line is that we find here a correlation between the uniqueness of the data and the results we achieve on it (oversampled data -> worse results, unique data -> better results).\n",
    "\n",
    "![image.png](attachment:image.png)"
   ]
  },
  {
   "cell_type": "markdown",
   "metadata": {},
   "source": [
    "## 5.5 Imbalanced MLPClassifier (DS4)\n",
    "This model was trained with imbalanced data sets. We took the unsuccessful data as is, and added to the training set a double amount of successful data."
   ]
  },
  {
   "cell_type": "markdown",
   "metadata": {},
   "source": [
    "### 5.5.1 Composition"
   ]
  },
  {
   "cell_type": "code",
   "execution_count": null,
   "metadata": {},
   "outputs": [],
   "source": [
    "from collections import Counter\n",
    "\n",
    "# undf - take only 2/3 of the data for training\n",
    "undf_training_count = int(len(undf) * 2 / 3)\n",
    "\n",
    "# predict test set - 1/3 of the undf data\n",
    "undf_test_count = int(len(undf) / 3)\n",
    "\n",
    "# print(f'size of training set (successful and unsuccessful): {count*2}')\n",
    "Y_imb = []\n",
    "Y_imb.extend(np.zeros(undf_training_count)) # for unsuccessful loans - undf\n",
    "Y_imb.extend(np.ones(undf_training_count*2)) # for successful loans - sudf\n",
    "Y_imb = np.array(Y_imb)\n",
    "X_imb = pd.concat([undf[:undf_training_count], sudf[:undf_training_count*2]], ignore_index=True)\n",
    "print(f'size of training (x): {len(X_imb)}, size of training label (Y): {len(Y_imb)}')\n",
    "\n",
    "test_undf_imb = undf[undf_training_count:]\n",
    "test_sudf_imb = sudf[:-len(test_undf_imb)]\n",
    "X_test_imb = pd.concat([test_undf_imb, test_sudf_imb], ignore_index=True).reset_index(drop=True)\n",
    "Y_test_imb = np.concatenate((np.zeros(len(test_undf_imb)), np.ones(len(test_sudf_imb))))\n",
    "print(f'size of test (x): {len(X_test_imb)}, size of test label (Y): {len(Y_test_imb)}')\n",
    "\n",
    "print(Counter(Y_imb))"
   ]
  },
  {
   "cell_type": "markdown",
   "metadata": {},
   "source": [
    "### 5.5.2 Training"
   ]
  },
  {
   "cell_type": "code",
   "execution_count": null,
   "metadata": {},
   "outputs": [],
   "source": [
    "# train a model\n",
    "classifier_imb = MLPClassifier(max_iter=500, hidden_layer_sizes=(15, 15, 15))\n",
    "clf_imb = make_pipeline(StandardScaler(),classifier_imb)\n",
    "clf_imb.fit(X_imb, Y_imb)"
   ]
  },
  {
   "cell_type": "markdown",
   "metadata": {},
   "source": [
    "### 5.5.3 Testing"
   ]
  },
  {
   "cell_type": "code",
   "execution_count": null,
   "metadata": {},
   "outputs": [],
   "source": [
    "# predict test set\n",
    "from sklearn.metrics import plot_confusion_matrix\n",
    "disp = plot_confusion_matrix(clf_imb, X_imb, Y_imb,\n",
    "                             display_labels=['unsuccessful','successful'],\n",
    "                             cmap=plt.cm.Blues,\n",
    "                             normalize='true',\n",
    "                            values_format='.4g')\n",
    "disp.ax_.set_title('normalized confusion matrix')\n",
    "print(disp.confusion_matrix)"
   ]
  },
  {
   "cell_type": "markdown",
   "metadata": {},
   "source": [
    "### 5.5.4 Results Analysis\n",
    "The imbalanced model is proved to be similar to the Basic MLPClassifier. We have worse prediction on the unsuccessful loans by 3%, but better prediction on the successful loans by 3% as well."
   ]
  },
  {
   "cell_type": "markdown",
   "metadata": {},
   "source": [
    "## 5.6 Regional MPI MLPClassifier (DS5)\n",
    "For this model training, we partially extracted the regional data from MPI. We extracted a large portion of the regions, and after seeing the initial results we concluded that this direction does not improve.<br>\n",
    "We've filled MPI, head count and Intensity with 0s. <br>\n",
    "Please note that the name is \"regional MPI\" and not just \"MPI\", since the country MPI data is already included in all the previous models. Here we add the regional MPI data.\n"
   ]
  },
  {
   "cell_type": "markdown",
   "metadata": {},
   "source": [
    "### 5.6.1 Preprocessing - Merge Regional MPI"
   ]
  },
  {
   "cell_type": "markdown",
   "metadata": {},
   "source": [
    "### Filter Columns"
   ]
  },
  {
   "cell_type": "code",
   "execution_count": null,
   "metadata": {},
   "outputs": [],
   "source": [
    "undf1 = undf_main\n",
    "sudf1 = sudf_main"
   ]
  },
  {
   "cell_type": "markdown",
   "metadata": {},
   "source": [
    "### Prepare train and test samples"
   ]
  },
  {
   "cell_type": "code",
   "execution_count": null,
   "metadata": {},
   "outputs": [],
   "source": [
    "# take only 2/3 of the data for training (based on undf size, since undf is 39,878 and sudf is 550,560)\n",
    "count = int(len(undf1) * 2 / 3)\n",
    "print(f'size of training set (successful and unsuccessful): {count*2}')\n",
    "Y = []\n",
    "Y.extend(np.zeros(count)) # for unsuccessful loans - undf\n",
    "Y.extend(np.ones(count)) # for successful loans - sudf\n",
    "Y = np.array(Y)\n",
    "X = pd.concat([undf1[:count], sudf1[:count]], ignore_index=True)\n",
    "\n",
    "# predict test set - 1/3 of the undf data, or 1/2 of the training set\n",
    "end_test_set_count = int(3*count/2) + 1\n",
    "print(f'size of test set (successful and unsuccessful): {count}')\n",
    "\n",
    "X_test = pd.concat([undf1[count:], sudf1[count:end_test_set_count]], ignore_index=True).reset_index(drop=True)\n",
    "#X_test = np.concatenate((predict_unsuc, predict_suc))\n",
    "y_test = np.concatenate((np.zeros(int(count/2)+1), np.ones(int(count/2)+1)))\n"
   ]
  },
  {
   "cell_type": "markdown",
   "metadata": {},
   "source": [
    "### 5.6.2 Training"
   ]
  },
  {
   "cell_type": "code",
   "execution_count": null,
   "metadata": {},
   "outputs": [],
   "source": [
    "with warnings.catch_warnings():\n",
    "    warnings.simplefilter(\"ignore\")\n",
    "    classifier = MLPClassifier(max_iter=200, hidden_layer_sizes=(20, 20, 20,))\n",
    "\n",
    "clf1 = make_pipeline(StandardScaler(),classifier)\n",
    "clf1.fit(X, Y)"
   ]
  },
  {
   "cell_type": "markdown",
   "metadata": {},
   "source": [
    "### 5.6.3 Testing"
   ]
  },
  {
   "cell_type": "code",
   "execution_count": null,
   "metadata": {},
   "outputs": [],
   "source": [
    "from sklearn.metrics import plot_confusion_matrix\n",
    "\n",
    "disp = plot_confusion_matrix(clf1, X_test, y_test,\n",
    "                             display_labels=['unsuccessful','successful'],\n",
    "                             cmap=plt.cm.Blues,\n",
    "                             normalize='true',\n",
    "                            values_format='.4g')\n",
    "disp.ax_.set_title('normalized confusion matrix')\n",
    "print(disp.confusion_matrix)\n"
   ]
  },
  {
   "cell_type": "markdown",
   "metadata": {},
   "source": [
    "### 5.6.4 Results Analysis\n",
    "As we can see, the results are not better than DS2, the basic MLPClassifier."
   ]
  },
  {
   "cell_type": "markdown",
   "metadata": {},
   "source": [
    "### 5.6.5 Testing the remaining successful loans\n",
    "With remaining successful loans"
   ]
  },
  {
   "cell_type": "code",
   "execution_count": null,
   "metadata": {
    "scrolled": true
   },
   "outputs": [],
   "source": [
    "X_success_test = sudf1[count:].reset_index(drop=True)\n",
    "y_success_test = np.ones(len(X_success_test))\n",
    "\n",
    "disp = plot_confusion_matrix(clf1, X_success_test, y_success_test,\n",
    "                             display_labels=['unsuccessful','successful'],\n",
    "                             cmap=plt.cm.Blues,\n",
    "                             normalize='true',\n",
    "                            values_format='.4g')\n",
    "disp.ax_.set_title('normalized confusion matrix')\n",
    "print(disp.confusion_matrix)\n"
   ]
  },
  {
   "cell_type": "markdown",
   "metadata": {},
   "source": [
    "# 5.7 Results\n",
    "We trained a very first model as a POC (SGDClassifier). The initial results indicate that there is a case for the current classification problem, however the results were too bad.<br>\n",
    "Next, we added dozens of features, based on deeper research of the data. The results of the next SGDClassifier we trained were much better. We called thie model the Extended SGDClassifier. <br>\n",
    "After some research, we trained the Basic MLPClassifier which proved to be better than both of them. It conludes all the features we added to the Extended SGDClassifier.<br>\n",
    "We decided to continue with the MLPClassifier, and trained a few more versions of it.\n",
    "We started off by showing an oversampled model, which is called Oversampled MLPClassifier. We experienced a lower prediction of the unsuccessful loans, so we tried to lower the oversampling to x2. The results were better.<br>\n",
    "Next, we showed the Imbalanced MLPClassifier. Its results were similar to the second oversampling model and the Basic MLPClassifier.<br>\n",
    "Last but not least, we trained the Regional MPI MLPClassifier. Its results were similar to the Basic MLPClassifier."
   ]
  },
  {
   "cell_type": "markdown",
   "metadata": {},
   "source": [
    "# <a class=\"anchor\" id=\"conclusions\">6. Conclusions</a>\n",
    "## 6.1 Obstacles\n",
    "Along the way we had some bugs that shifted our results, the most significat bug was the biased encoding, it improved our success rate significally and we didn't suspect this bug until we reviewed some of our code. <br>\n",
    "Another, less impactful bug was merging the MPI and loans dataset. We didn't set the 'how' parameter, and ended up losing 80k entries which suprisinly didn't affect the results too badly. <br><br>\n",
    "\n",
    "## 6.2 Summary\n",
    "We faced various challenges in this project: missing values, features that require preprocessing, crossing data with other datasets, dealing with imbalanced datasets, and figuring out the best model for predicting the best results. Each challange required different tools and attitude, and we presented the solutions we offered to overcome them. In some cases, we compared a few solutions.<br>\n",
    "One of the biggest challanges of the project was the feature extraction, and it came into effect with the largest section of our notebook dedicated to feature extraction. The model training and fine uning was also a major challenge.<br>\n",
    "Our end goal was to predicit whether a loan will get fully funded on Kiva platform or not, and we managed to get a decent result at the end. Using the 2nd (the Basic MLPClassiifer) or 5th models (Regional MPI MLPClassifier) we can get a prediction with 91% success rate whether a loan will be successful or not, using the 3rd (Oversampled MLPClassifier) or the 4th (Imbalanced MLPClassifer) model we can predict successful loans with success rate of almost 95%(!) but an unsuccessful loan with 89% success rate. <br><br>"
   ]
  }
 ],
 "metadata": {
  "kernelspec": {
   "name": "python3",
   "language": "python",
   "display_name": "Python 3"
  },
  "language_info": {
   "codemirror_mode": {
    "name": "ipython",
    "version": 3
   },
   "file_extension": ".py",
   "mimetype": "text/x-python",
   "name": "python",
   "nbconvert_exporter": "python",
   "pygments_lexer": "ipython3",
   "version": "3.7.1"
  }
 },
 "nbformat": 4,
 "nbformat_minor": 4
}