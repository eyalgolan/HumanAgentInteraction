{
 "cells": [
  {
   "cell_type": "markdown",
   "source": [
    "# Predicting a loan's success in kiva's crowdfinding platform\n",
    "## Human-Agent interaction final project\n",
    "### By Einat Heletz and Eyal Golan"
   ],
   "metadata": {
    "collapsed": false
   }
  },
  {
   "cell_type": "markdown",
   "source": [
    "# Table of Contents\n",
    "1. [Introduction](#intro)\n",
    "2. [Preprocessing](#preprocessing)\n",
    "3. [Analyzing the data](#analyzing)\n",
    "4. [Conclusions](#conclusions)"
   ],
   "metadata": {
    "collapsed": false
   }
  },
  {
   "cell_type": "markdown",
   "source": [
    "# <a class=\"anchor\" id=\"intro\">1. Introduction</a>\n",
    "<b>What is Kiva?</b><br>\n",
    "Kiva is a non-profit organization that allows people to lend money via the Internet to low-income entrepreneurs and\n",
    "students in 77 countries.\n",
    "Kiva's mission is \"to expand financial access to help underserved communities thrive.\"\n",
    "Since 2005, Kiva has crowd-funded more than 1.6 million loans, totaling over $1.33 billion, with a repayment rate of \n",
    "95.8 percent. Over 1.8 million lenders worldwide use the Kiva platform. Lenders do not receive interest on the money \n",
    "they lend. Kiva includes personal stories of each person who applies for a loan so that lenders can connect with \n",
    "borrowers on a human level.<br>\n",
    "<br><br>\n",
    "<b>Motivation</b><br>\n",
    "The Kiva platform is used to extend financial services to poor and financially excluded people around the world.\n",
    "It's lenders have provided over billions of dollars in loans to millions of people.\n",
    "In order to inform lenders, set investment priorities and understand the lenders target communities -\n",
    "knowing the poverty level of each borrower is important.\n",
    "However, this requires inference based on limited information for each borrower.\n",
    "<br><br>\n",
    "<b>Our goal</b><br>\n",
    "As part of out final project in the Human-Agent interaction course, our goal is to determine which factors come to play\n",
    "in a lender's decision to provide a load or not - Which factors give a lender the security he or she needs that they\n",
    "will get the money back? which people do lenders tend to trust? why?"
   ],
   "metadata": {
    "collapsed": false
   }
  },
  {
   "cell_type": "markdown",
   "source": [
    "## 1.1 Data\n",
    "[Data Science for Good: Kiva Crowdfunding](https://www.kaggle.com/kiva/data-science-for-good-kiva-crowdfunding)\n",
    "\n",
    "Explaining the data:\n",
    "Kiva Crowdfunding - we use the following kiva_loans.csv dataset. The dataset contains the following fields:\n",
    "   * id\t- int, the id number of the loan request\n",
    "   * funded_amount - The amount disbursed by Kiva to the field agent(USD)\n",
    "   * loan_amount - The amount disbursed by the field agent to the borrower(USD)\n",
    "   * activity - The activity for which the load is requested\n",
    "   * sector - The category of the activity\n",
    "   * use - The purpose of the load\n",
    "   * country_code - ISO country code of country in which loan was disbursed\n",
    "   * country - Full country name of country in which loan was disbursed\n",
    "   * region - Full region name within the country\n",
    "   * currency - The currency in which the loan was disbursed\n",
    "   * partner_id - Unique ID for field partners\n",
    "   * posted_time\n",
    "   * disbursed_time\n",
    "   * funded_time\n",
    "   * term_in_months\n",
    "   * lender_count\n",
    "   * tags - Additional information about the load, for example: #Woman Owned Biz, #Parent, #First Loan\n",
    "   * borrower_genders - the gender of each of the borrowers"
   ],
   "metadata": {
    "collapsed": false
   }
  },
  {
   "cell_type": "markdown",
   "source": [
    "# <a class=\"anchor\" id=\"preprocessing\">2. Preprocessing</a>"
   ],
   "metadata": {
    "collapsed": false
   }
  },
  {
   "cell_type": "markdown",
   "source": [
    "## 2.1 Loading the data"
   ],
   "metadata": {
    "collapsed": false
   }
  },
  {
   "cell_type": "code",
   "execution_count": null,
   "outputs": [],
   "source": [
    "import pandas as pd\n",
    "import numpy as np\n",
    "import math\n",
    "import nltk\n",
    "from nltk.tokenize import RegexpTokenizer\n",
    "from tqdm import tqdm\n",
    "import warnings\n",
    "from wordcloud import WordCloud\n",
    "import matplotlib.pyplot as plt\n",
    "import seaborn as sns\n",
    "from sklearn.feature_extraction.text import TfidfVectorizer\n",
    "from datetime import datetime"
   ],
   "metadata": {
    "collapsed": false,
    "pycharm": {
     "name": "#%%\n"
    }
   }
  },
  {
   "cell_type": "code",
   "execution_count": null,
   "outputs": [],
   "source": [
    "with warnings.catch_warnings():\n",
    "    warnings.simplefilter(\"ignore\")\n",
    "    tqdm.pandas()\n",
    "\n",
    "print(\"Loading the datasets ...\")\n",
    "loans = pd.read_csv(r\"datasets/kiva_loans.csv\")\n",
    "print(\"Loaded all the datasets\")"
   ],
   "metadata": {
    "collapsed": false,
    "pycharm": {
     "name": "#%%\n"
    }
   }
  },
  {
   "cell_type": "markdown",
   "source": [
    "## 2.2 Labeling\n",
    "\n",
    "### 2.2.1 Amounts and labeling\n",
    "We will classify the loans into 2 categories - \n",
    "1. Successful - A loan which has been fully funded by Kiva lender,\n",
    "2. Unsuccessful - A partialy funded loan.\n",
    "<br>\n",
    "\n",
    "The label will be based on the following condition:<br>\n",
    "loan_amount - funded_amount == 0"
   ],
   "metadata": {
    "collapsed": false
   }
  },
  {
   "cell_type": "code",
   "execution_count": null,
   "outputs": [],
   "source": [
    "unsuccessful_loans_df = loans[loans['funded_amount'] < loans['loan_amount']]\n",
    "successful_loans_df = loans[loans['funded_amount'] == loans['loan_amount']]\n",
    "print(f'unsuccessful loans: {len(unsuccessful_loans_df)}, successful loans: {len(successful_loans_df)}')\n",
    "\n",
    "ax = pd.DataFrame([len(successful_loans_df), len(unsuccessful_loans_df)], index=[\"Successful\", \"Unsuccessful\"]).plot(kind=\"bar\")"
   ],
   "metadata": {
    "collapsed": false,
    "pycharm": {
     "name": "#%%\n"
    }
   }
  },
  {
   "cell_type": "code",
   "execution_count": null,
   "outputs": [],
   "source": [
    "successful_loans_df.loc[:,'Key'] = 'Successful'\n",
    "unsuccessful_loans_df.loc[:,'Key'] = 'Unsuccessful'\n",
    "loans_with_label = pd.concat([successful_loans_df, unsuccessful_loans_df]).reset_index(drop=True)"
   ],
   "metadata": {
    "collapsed": false,
    "pycharm": {
     "name": "#%%\n"
    }
   }
  },
  {
   "cell_type": "markdown",
   "source": [
    "#  <a class=\"anchor\" id=\"analyzing\">3. Analyzing the data</a>\n",
    "We will take fields from different columns and generate features from them. Some examples:\n",
    "1. Tags - some interesting tags can produce a boolean feature (exists or not)\n",
    "2. \"is_funded\" (boolean) - loan_amount - funded_amount == 0"
   ],
   "metadata": {
    "collapsed": false
   }
  },
  {
   "cell_type": "markdown",
   "source": [
    "## 3.1 Gender Features\n",
    "We will extract 3 features: amount of borrowers, the existence of a feminine and the existence of a masculine.<br>\n",
    "In case of missing value in the borrower_genders field, the values are defined as follows, correspondingly: 0, False, False."
   ],
   "metadata": {
    "collapsed": false
   }
  },
  {
   "cell_type": "code",
   "execution_count": null,
   "outputs": [],
   "source": [
    "loans_with_label['borrowers_amount'] = loans_with_label.apply(lambda r:len(r.borrower_genders.split(',')) if type(r.borrower_genders) is str else 0, axis=1)\n",
    "loans_with_label['has_female'] = loans_with_label.apply(lambda r:'female' in r.borrower_genders.split(',') if type(r.borrower_genders) is str else False, axis=1)\n",
    "loans_with_label['has_male'] = loans_with_label.apply(lambda r:'male' in r.borrower_genders.split(',') if type(r.borrower_genders) is str else False, axis=1)"
   ],
   "metadata": {
    "collapsed": false,
    "pycharm": {
     "name": "#%%\n"
    }
   }
  },
  {
   "cell_type": "code",
   "execution_count": null,
   "outputs": [],
   "source": [
    "males_count = loans_with_label.groupby(['Key', 'has_male']).size().unstack('has_male')[True]\n",
    "females_count = loans_with_label.groupby(['Key', 'has_female']).size().unstack('has_female')[True]\n",
    "gender_df = pd.DataFrame([males_count, females_count], index=['male', 'female'])\n",
    "gender_df[\"Successful\"] = gender_df[\"Successful\"].apply(lambda x: x / len(successful_loans_df) * 100)\n",
    "gender_df[\"Unsuccessful\"] = gender_df[\"Unsuccessful\"].apply(lambda x: x / len(unsuccessful_loans_df) * 100)\n",
    "ax = gender_df.transpose().plot(kind=\"bar\")"
   ],
   "metadata": {
    "collapsed": false,
    "pycharm": {
     "name": "#%%\n"
    }
   }
  },
  {
   "cell_type": "markdown",
   "source": [
    " #### Results\n",
    " This barplot shows the percentage of loans with male and female borrowers in successful and unsuccessful loans separately"
   ],
   "metadata": {
    "collapsed": false
   }
  },
  {
   "cell_type": "markdown",
   "source": [
    "## 3.2 Loans use extraction\n",
    "The use column contains free text for the lenders to descrive the purpose of their loan. <br> \n",
    "First we will take a quick look at the data using wordcloud to get the genreral idea for the usage of the loans, and what the lenders need the money for. <br>\n",
    "And then we'll extract some features from the text.\n",
    "\n",
    "### 3.2.1 Exploring\n",
    "The use columns is a free text that describes the purpose of the loan, using a wordcloud can give the essence of successful and unsuucessful loans."
   ],
   "metadata": {
    "collapsed": false
   }
  },
  {
   "cell_type": "code",
   "execution_count": null,
   "outputs": [],
   "source": [
    "nltk.download('stopwords')\n",
    "\n",
    "stop_words = set(nltk.corpus.stopwords.words('english')) \n",
    "tokenizer = RegexpTokenizer(r'\\w+')\n",
    "final = []\n",
    "for use in successful_loans_df.use:\n",
    "    if type(use) != str:\n",
    "        continue\n",
    "    tokenized = tokenizer.tokenize(use)\n",
    "    filtered = [w.lower() for w in tokenized if w not in stop_words]\n",
    "    final.extend(filtered)\n",
    "final_successful = \" \".join(final)\n",
    "\n",
    "stop_words = set(nltk.corpus.stopwords.words('english')) \n",
    "tokenizer = RegexpTokenizer(r'\\w+')\n",
    "final = []\n",
    "for use in unsuccessful_loans_df.use:\n",
    "    if type(use) != str:\n",
    "        continue\n",
    "    tokenized = tokenizer.tokenize(use)\n",
    "    filtered = [w.lower() for w in tokenized if w not in stop_words]\n",
    "    final.extend(filtered)\n",
    "final_unsuccessful = \" \".join(final)"
   ],
   "metadata": {
    "collapsed": false,
    "pycharm": {
     "name": "#%%\n"
    }
   }
  },
  {
   "cell_type": "code",
   "execution_count": null,
   "outputs": [],
   "source": [
    "word_cloud = WordCloud(width = 800, height = 800,\n",
    "                background_color ='white', \n",
    "                stopwords = stop_words, \n",
    "                min_font_size = 10).generate(final_successful)\n",
    "\n",
    "plt.figure(figsize = (8, 8), facecolor = None) \n",
    "plt.imshow(word_cloud)\n",
    "plt.axis(\"off\") \n",
    "plt.tight_layout(pad = 0) \n",
    "\n",
    "print(\"Word cloud for successful loans\")\n",
    "\n",
    "plt.show() "
   ],
   "metadata": {
    "collapsed": false,
    "pycharm": {
     "name": "#%%\n"
    }
   }
  },
  {
   "cell_type": "code",
   "execution_count": null,
   "outputs": [],
   "source": [
    "word_cloud = WordCloud(width = 800, height = 800,\n",
    "                background_color ='white', \n",
    "                stopwords = stop_words, \n",
    "                min_font_size = 10).generate(final_unsuccessful)\n",
    "\n",
    "plt.figure(figsize = (8, 8), facecolor = None) \n",
    "plt.imshow(word_cloud)\n",
    "plt.axis(\"off\") \n",
    "plt.tight_layout(pad = 0) \n",
    "\n",
    "print(\"Word cloud for unsuccessful loans\")\n",
    "\n",
    "plt.show()"
   ],
   "metadata": {
    "collapsed": false,
    "pycharm": {
     "name": "#%%\n"
    }
   }
  },
  {
   "cell_type": "markdown",
   "source": [
    "### Results\n",
    "\n",
    "Viewing the word clouds we can see that the words such as \"water\", \"safe drinking\", \"water filter\" are used in\n",
    "successful loans, whereas \"buy\", \"sell\", \"soft drink\" and \"business\" are used more in unsuccessful loans."
   ],
   "metadata": {
    "collapsed": false
   }
  },
  {
   "cell_type": "markdown",
   "source": [
    "### 3.2.2 Extracting Lexical Diversity, Text Length, Word Count and TF/IDF\n",
    "We will extract 4 features: Lexical Diversity, Text Length, Word Count and TF/IDF."
   ],
   "metadata": {
    "collapsed": false
   }
  },
  {
   "cell_type": "markdown",
   "source": [
    "#### 3.2.2.1 Filling missing data\n",
    "We fill the missing data in order to avoid errors"
   ],
   "metadata": {
    "collapsed": false
   }
  },
  {
   "cell_type": "code",
   "execution_count": null,
   "outputs": [],
   "source": [
    "def fill_missing_values(field, value):\n",
    "    missing_values_before = loans_with_label[field].apply(lambda x: 1 if type(x) is float and math.isnan(x) else 0).sum()\n",
    "    loans_with_label[field] = loans_with_label[field].fillna(value)\n",
    "    missing_values_after = loans_with_label[field].apply(lambda x: 1 if type(x) is float and math.isnan(x) else 0).sum()\n",
    "    print(f'Missing values in {field} - before: {missing_values_before}, after: {missing_values_after}')\n",
    "\n",
    "fill_missing_values('partner_id', 0)\n",
    "fill_missing_values('lender_count', 0)\n",
    "fill_missing_values('country_code', 'na')\n",
    "fill_missing_values('use', '')"
   ],
   "metadata": {
    "collapsed": false,
    "pycharm": {
     "name": "#%%\n"
    }
   }
  },
  {
   "cell_type": "markdown",
   "source": [
    "#### 3.2.2.2 Checking the effect of each feature\n",
    "We want to check how the 4 feature - Lexical Diversity, Text Length, Word Count and TF/IDF - effect the choice of the\n",
    "borrower."
   ],
   "metadata": {
    "collapsed": false
   }
  },
  {
   "cell_type": "markdown",
   "source": [
    "#### lexical diversity and word count\n",
    "**we check the effect of the loan's use field lexical diversity and the number of words in the use field -\n",
    "on the borrowers.**"
   ],
   "metadata": {
    "collapsed": false
   }
  },
  {
   "cell_type": "code",
   "execution_count": null,
   "outputs": [],
   "source": [
    "nltk.download('punkt')\n",
    "\n",
    "unique_words = dict()\n",
    "def lexical_diversity(text):\n",
    "    tokenized_text = nltk.word_tokenize(text)\n",
    "    if len(tokenized_text) == 0:\n",
    "        return 0\n",
    "    for i in tokenized_text:\n",
    "        try:\n",
    "            unique_words[i] += 1\n",
    "        except Exception as e:\n",
    "            unique_words[i] = 1\n",
    "    return len(set(tokenized_text)) / len(tokenized_text)\n",
    "\n",
    "loans_with_label['lexical_diversity'] = loans_with_label['use'].progress_apply(lexical_diversity)"
   ],
   "metadata": {
    "collapsed": false,
    "pycharm": {
     "name": "#%%\n"
    }
   }
  },
  {
   "cell_type": "code",
   "execution_count": null,
   "outputs": [],
   "source": [
    "loans_with_label['use_length'] = loans_with_label['use'].apply(lambda x: len(x))\n",
    "loans_with_label['word_count'] = loans_with_label['use'].progress_apply(lambda x: len(nltk.word_tokenize(x)))"
   ],
   "metadata": {
    "collapsed": false,
    "pycharm": {
     "name": "#%%\n"
    }
   }
  },
  {
   "cell_type": "markdown",
   "source": [
    "#### TF-IDF\n",
    "TF-IDF stands for “Term Frequency — Inverse Document Frequency”.\n",
    "This is a technique to quantify a word in documents,\n",
    "we generally compute a weight to each word which signifies the importance of the word in the document and corpus.\n",
    "\n",
    "\n",
    "**In our case, we check the effect of each word in the \"use\" field - on the borrowers.**"
   ],
   "metadata": {
    "collapsed": false
   }
  },
  {
   "cell_type": "code",
   "execution_count": null,
   "outputs": [],
   "source": [
    "filtered_use = loans['use'].apply(lambda x: x if not pd.isna(x) else \"\")\n",
    "\n",
    "tfidf_vectorizer = TfidfVectorizer(use_idf=True)\n",
    "tfidf_vectorizer_vectors = tfidf_vectorizer.fit_transform(filtered_use)\n",
    "\n",
    "# get the first vector out (for the first document)\n",
    "first_vector_tfidfvectorizer = tfidf_vectorizer_vectors[0]\n",
    "\n",
    "# place tf-idf values in a pandas data frame\n",
    "temp_df = pd.DataFrame(first_vector_tfidfvectorizer.T.todense(), index=tfidf_vectorizer.get_feature_names(), columns=[\"tfidf\"])\n",
    "tfidf_df = temp_df.sort_values(by=[\"tfidf\"],ascending=False)"
   ],
   "metadata": {
    "collapsed": false,
    "pycharm": {
     "name": "#%%\n"
    }
   }
  },
  {
   "cell_type": "code",
   "execution_count": null,
   "outputs": [],
   "source": [
    "tokenizer = nltk.RegexpTokenizer(r'\\w+')\n",
    "def tfidf_extraction(use):\n",
    "    values = []\n",
    "    for i in tokenizer.tokenize(use):\n",
    "        i = i.lower()\n",
    "        if i not in tfidf_df.index:\n",
    "            continue\n",
    "        values.append(tfidf_df.loc[i].iloc[0])\n",
    "    return np.array(values).max(initial=0)\n",
    "\n",
    "loans_with_label['tfidf'] = loans_with_label['use'].progress_apply(tfidf_extraction)"
   ],
   "metadata": {
    "collapsed": false,
    "pycharm": {
     "name": "#%%\n"
    }
   }
  },
  {
   "cell_type": "markdown",
   "source": [
    "# todo add more here and understand what tal wrote\n",
    "#### Results\n",
    "After analyzing the plots, it seems that the successful loans have a shorter but richer sentence in the use field."
   ],
   "metadata": {
    "collapsed": false
   }
  },
  {
   "cell_type": "code",
   "execution_count": null,
   "outputs": [],
   "source": [
    "fig, axes = plt.subplots(nrows=1, ncols=3, figsize=(12,5))\n",
    "ax = sns.violinplot(x=\"Key\", y=\"word_count\", data=loans_with_label, ax=axes[0])\n",
    "ax = sns.violinplot(x=\"Key\", y=\"use_length\", data=loans_with_label, ax=axes[1])\n",
    "ax = sns.violinplot(x=\"Key\", y=\"lexical_diversity\", data=loans_with_label, ax=axes[2])\n",
    "\n",
    "plt.tight_layout()\n",
    "plt.show()"
   ],
   "metadata": {
    "collapsed": false,
    "pycharm": {
     "name": "#%%\n"
    }
   }
  },
  {
   "cell_type": "markdown",
   "source": [
    "## 3.3 Posted date extraction\n",
    "The dataset has 3 different date columns. Posted, funded and disbursed. <br>\n",
    "- Funded time is not usable because has 100% correlation with our label (If a fund hasn't been fully funded,\n",
    "it won't have funded time)\n",
    "- Disbursed time column has too many missing entries.\n",
    "- Posted time is the only useful column, so we'll be using it for our features.\n",
    "\n",
    "We add 4 numeric features (day, month, year, day in the week)"
   ],
   "metadata": {
    "collapsed": false
   }
  },
  {
   "cell_type": "code",
   "execution_count": null,
   "outputs": [],
   "source": [
    "def time_to_feature(date_):\n",
    "    date_ = datetime.strptime(date_, \"%Y-%m-%d %H:%M:%S+00:00\")\n",
    "    return pd.Series({\"posted_year\": date_.year, \"posted_month\": date_.month, \"posted_day\": date_.day, \"posted_weekday\": date_.weekday(), \"posted_hour\": date_.hour})\n",
    "\n",
    "posted_time_series = loans_with_label['posted_time'].progress_apply(time_to_feature)"
   ],
   "metadata": {
    "collapsed": false,
    "pycharm": {
     "name": "#%%\n"
    }
   }
  },
  {
   "cell_type": "code",
   "execution_count": null,
   "outputs": [],
   "source": [
    "loans_with_label = loans_with_label.merge(posted_time_series, left_index=True, right_index=True)"
   ],
   "metadata": {
    "collapsed": false,
    "pycharm": {
     "name": "#%%\n"
    }
   }
  },
  {
   "cell_type": "markdown",
   "source": [
    "## 3.4 Tags\n",
    "The tags column contains one cell for each loan entry.\n",
    "This single cell might contain more than one tag, in order to use this data we'll have to create a feature for each\n",
    "different tag that exists in dataset set. <br>\n",
    "The tags column might be useful, so we will have to preprocess it.<br>\n",
    "This section adds tags as independent columns. It takes a while to compute."
   ],
   "metadata": {
    "collapsed": false
   }
  },
  {
   "cell_type": "markdown",
   "source": [
    "### 3.4.1 Tags preprocessing"
   ],
   "metadata": {
    "collapsed": false
   }
  },
  {
   "cell_type": "code",
   "execution_count": null,
   "outputs": [],
   "source": [
    "def get_tag_list(tags):\n",
    "    stags = set()\n",
    "    if type(tags) != str:\n",
    "        return set()\n",
    "    tags = tags.split(\",\")\n",
    "    for tag in tags:\n",
    "        tag = tag.strip(\"# '\")\n",
    "        stags.add(tag)\n",
    "    return stags\n",
    "\n",
    "all_tags = set()\n",
    "for tags in loans.tags:\n",
    "    all_tags.update(get_tag_list(tags))\n",
    "print(f'Total tags obtained: {len(all_tags)}')\n",
    "\n",
    "loans_with_label['tag_list'] = loans_with_label.apply(lambda r: get_tag_list(r['tags']), axis=1)"
   ],
   "metadata": {
    "collapsed": false,
    "pycharm": {
     "name": "#%%\n"
    }
   }
  },
  {
   "cell_type": "markdown",
   "source": [
    "### 3.4.2 Tags extraction\n",
    "Adding each tag as a feature"
   ],
   "metadata": {
    "collapsed": false
   }
  },
  {
   "cell_type": "code",
   "execution_count": null,
   "outputs": [],
   "source": [
    "for tag in tqdm(all_tags):\n",
    "    loans_with_label[f'{tag}_tag'] = loans_with_label.apply(lambda r: tag in r['tag_list'], axis=1)\n",
    "    "
   ],
   "metadata": {
    "collapsed": false,
    "pycharm": {
     "name": "#%%\n"
    }
   }
  },
  {
   "cell_type": "markdown",
   "source": [
    "### 3.4.3 Tags selection\n",
    "\n",
    "Processing the effect of the tags on the loan's success"
   ],
   "metadata": {
    "collapsed": false
   }
  },
  {
   "cell_type": "code",
   "execution_count": null,
   "outputs": [],
   "source": [
    "tag_names = [tag + '_tag' for tag in all_tags]\n",
    "tags_df = pd.DataFrame(index=tag_names, columns =['successful', 'unsuccessful'])\n",
    "appearance_tags_df = pd.DataFrame(columns =['successful', 'unsuccessful'])\n",
    "successful_with_tags = loans_with_label.query(\"Key == 'Successful'\")\n",
    "unsuccessful_with_tags = loans_with_label.query(\"Key == 'Unsuccessful'\")\n",
    "for tag in tag_names:    \n",
    "    sudf_num = int(successful_with_tags[successful_with_tags[tag] == 1].count().iloc[0] / successful_with_tags.count().iloc[0] * 100)\n",
    "    undf_num = int(unsuccessful_with_tags[unsuccessful_with_tags[tag] == 1].count().iloc[0] / unsuccessful_with_tags.count().iloc[0] * 100)\n",
    "    tags_df.loc[tag] = [sudf_num, undf_num]\n",
    "    if sudf_num != 0 or undf_num != 0:\n",
    "        appearance_tags_df.loc[tag] = [sudf_num, undf_num]\n"
   ],
   "metadata": {
    "collapsed": false,
    "pycharm": {
     "name": "#%%\n"
    }
   }
  },
  {
   "cell_type": "code",
   "execution_count": null,
   "outputs": [],
   "source": [
    "appearance_tags_df.index.name = 'tags'\n",
    "tags_df_melted = appearance_tags_df.reset_index().melt(var_name='% appearance', value_name='b', id_vars=['tags'])\n",
    "ax = sns.barplot(y='tags', x='b', hue='% appearance', data=tags_df_melted)"
   ],
   "metadata": {
    "collapsed": false,
    "pycharm": {
     "name": "#%%\n"
    }
   }
  },
  {
   "cell_type": "markdown",
   "source": [
    "#### Results\n",
    "\n",
    "Looking at the results - it seems that the tags: Technology, Fabrics, Eco-Friendly, Health and Sanitation are the top\n",
    " tags for successful loans. However, the Refugee and Interesting photo tags were always in unsuccessful loans."
   ],
   "metadata": {
    "collapsed": false
   }
  },
  {
   "cell_type": "markdown",
   "source": [
    "using only 'user_favorite' tag"
   ],
   "metadata": {
    "collapsed": false
   }
  },
  {
   "cell_type": "code",
   "execution_count": null,
   "outputs": [],
   "source": [
    "tags_selected = ['user_favorite_tag']"
   ],
   "metadata": {
    "collapsed": false,
    "pycharm": {
     "name": "#%%\n"
    }
   }
  },
  {
   "cell_type": "markdown",
   "source": [
    "### 3.5.1 Loan amount by sector\n",
    "\n",
    "Here we get an impression of which loan sectors are more likely to be funded."
   ],
   "metadata": {
    "collapsed": false
   }
  },
  {
   "cell_type": "code",
   "execution_count": null,
   "outputs": [],
   "source": [
    "sectors = loans.sector.unique()\n",
    "\n",
    "sector_loans_df = loans_with_label.groupby([\"sector\", \"Key\"]).size().unstack(\"Key\")\n",
    "sector_loans_df[\"Successful\"] = sector_loans_df[\"Successful\"].apply(lambda x: x / len(successful_loans_df) * 100)\n",
    "sector_loans_df[\"Unsuccessful\"] = sector_loans_df[\"Unsuccessful\"].apply(lambda x: x / len(unsuccessful_loans_df) * 100)\n",
    "sector_loans_df.plot(kind=\"bar\")"
   ],
   "metadata": {
    "collapsed": false,
    "pycharm": {
     "name": "#%%\n"
    }
   }
  },
  {
   "cell_type": "markdown",
   "source": [
    "#### Results\n",
    "\n",
    "The ratios seem to be even among successful and unsuccessful loans, but some field seem to be more likely to be more\n",
    "successful (Personal use, Education and food)."
   ],
   "metadata": {
    "collapsed": false
   }
  },
  {
   "cell_type": "markdown",
   "source": [
    "#### 3.5.2 Loan amount by sector\n",
    "\n",
    "Let's look at average loan amount per sector of successful and unsuccessful loans:"
   ],
   "metadata": {
    "collapsed": false
   }
  },
  {
   "cell_type": "code",
   "execution_count": null,
   "outputs": [],
   "source": [
    "ax = sns.boxplot(x=\"sector\", y=\"loan_amount\", data=loans_with_label, hue=\"Key\")\n",
    "ax.set_yscale(\"log\")\n",
    "ax.set_xticklabels(ax.get_xticklabels(), rotation=90)\n",
    "plt.tight_layout()\n",
    "plt.show()"
   ],
   "metadata": {
    "collapsed": false,
    "pycharm": {
     "name": "#%%\n"
    }
   }
  },
  {
   "cell_type": "markdown",
   "source": [
    "#### Results\n",
    "\n",
    "For each sector, the average loan amount is greater on unsuccessful loans.\n",
    "\n",
    "We can also see which sector requests for higher loans, and what is the average request that succeeds (for each sector)."
   ],
   "metadata": {
    "collapsed": false
   }
  },
  {
   "cell_type": "markdown",
   "source": [
    "#### 3.5.3 Loan amount\n",
    "\n",
    "Let's look at the average loan amount of successful and unsuccessful loans:"
   ],
   "metadata": {
    "collapsed": false
   }
  },
  {
   "cell_type": "code",
   "execution_count": null,
   "outputs": [],
   "source": [
    "ax = sns.boxplot(x=\"Key\", y=\"loan_amount\", data=loans_with_label)\n",
    "ax.set_yscale('log')\n",
    "plt.show()"
   ],
   "metadata": {
    "collapsed": false,
    "pycharm": {
     "name": "#%%\n"
    }
   }
  },
  {
   "cell_type": "markdown",
   "source": [
    "#### Results\n",
    "\n",
    "On average, unsuccessful loans request higher amounts"
   ],
   "metadata": {
    "collapsed": false
   }
  },
  {
   "cell_type": "markdown",
   "source": [
    "### 3.5.4 Term in months\n",
    "\n",
    "Let's look at the term in months of successful and unsuccessful loans:"
   ],
   "metadata": {
    "collapsed": false
   }
  },
  {
   "cell_type": "code",
   "execution_count": null,
   "outputs": [],
   "source": [
    "plt.subplot(1, 2, 1)\n",
    "ax = sns.boxplot(x=\"Key\", y=\"term_in_months\", data=loans_with_label)\n",
    "ax.set_yscale('log')\n",
    "plt.subplot(1, 2, 2)\n",
    "ax = sns.barplot(x=\"Key\", y=\"term_in_months\", data=loans_with_label)\n",
    "\n",
    "plt.tight_layout()\n",
    "plt.show()"
   ],
   "metadata": {
    "collapsed": false,
    "pycharm": {
     "name": "#%%\n"
    }
   }
  },
  {
   "cell_type": "markdown",
   "source": [
    "#### Results\n",
    "\n",
    "We can see here that on average, unsuccessful loans request for a longer term to return the loans."
   ],
   "metadata": {
    "collapsed": false
   }
  },
  {
   "cell_type": "markdown",
   "source": [
    "#### 3.5.5 Repayment interval\n",
    "\n",
    "Let's look at the repayment interval of successful and unsuccessful loans:"
   ],
   "metadata": {
    "collapsed": false
   }
  },
  {
   "cell_type": "code",
   "execution_count": null,
   "outputs": [],
   "source": [
    "repayment_intervals = loans_with_label.repayment_interval.unique()\n",
    "\n",
    "\n",
    "loans_by_repayment = loans_with_label.groupby([\"Key\", \"repayment_interval\"]).size().unstack(\"Key\")\n",
    "loans_by_repayment[\"Successful\"] = loans_by_repayment[\"Successful\"].apply(lambda x: x / len(successful_loans_df) * 100)\n",
    "loans_by_repayment[\"Unsuccessful\"] = loans_by_repayment[\"Unsuccessful\"].apply(lambda x: x / len(unsuccessful_loans_df) * 100)\n",
    "loans_by_repayment.plot(kind=\"bar\")"
   ],
   "metadata": {
    "collapsed": false,
    "pycharm": {
     "name": "#%%\n"
    }
   }
  },
  {
   "cell_type": "markdown",
   "source": [
    "#### Results\n",
    "\n",
    "Most of the unsuccessful loans have monthly repayment interval, while almost 50% of the successful loans have irregular\n",
    "interval.\n",
    "\n",
    "It seems a bit odd, since borrowers might prefer a safer repayment method, but this is probably a classic\n",
    "case of causation != correlation. There's probably a different cause for this diff on the interval rate, but\n",
    "nevertheless it can be a useful feature."
   ],
   "metadata": {
    "collapsed": false
   }
  },
  {
   "cell_type": "markdown",
   "source": [
    "## 3.6 Selected Features"
   ],
   "metadata": {
    "collapsed": false
   }
  },
  {
   "cell_type": "markdown",
   "source": [
    "These dataframes (undf, sudf) will be used for the final composition of the data set."
   ],
   "metadata": {
    "collapsed": false
   }
  },
  {
   "cell_type": "code",
   "execution_count": null,
   "outputs": [],
   "source": [
    "selected_features_df = loans_with_label.loc[:, ['Key',\n",
    "    'loan_amount', 'sector', 'activity', 'term_in_months', 'repayment_interval', \n",
    "    'MPI Urban', 'Headcount Ratio Urban', 'Intensity of Deprivation Urban', 'MPI Rural', 'Headcount Ratio Rural',\n",
    "    'Intensity of Deprivation Rural', 'partner_id', 'country_code', 'borrowers_amount', 'has_male', 'has_female',\n",
    "    'posted_year','posted_month', 'posted_day', 'posted_weekday', # 'posted_hour', \n",
    "    'lexical_diversity', 'use_length', 'word_count',  'lender_count', \n",
    "    'MPI National', 'MPI Regional', 'Headcount Ratio Regional', 'Intensity of deprivation Regional', \n",
    "    'tfidf',\n",
    "] + tags_selected]\n",
    "print(f'number of features: {len(selected_features_df.columns)}')"
   ],
   "metadata": {
    "collapsed": false,
    "pycharm": {
     "name": "#%%\n"
    }
   }
  }
 ],
 "metadata": {
  "kernelspec": {
   "name": "python3",
   "language": "python",
   "display_name": "Python 3"
  },
  "language_info": {
   "codemirror_mode": {
    "name": "ipython",
    "version": 3
   },
   "file_extension": ".py",
   "mimetype": "text/x-python",
   "name": "python",
   "nbconvert_exporter": "python",
   "pygments_lexer": "ipython3",
   "version": "3.7.1"
  }
 },
 "nbformat": 4,
 "nbformat_minor": 4
}